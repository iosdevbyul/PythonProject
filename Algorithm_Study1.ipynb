{
 "cells": [
  {
   "cell_type": "markdown",
   "id": "dbf24910",
   "metadata": {},
   "source": [
    "# 자료구조와 배열"
   ]
  },
  {
   "cell_type": "code",
   "execution_count": 2,
   "id": "fbff0871",
   "metadata": {},
   "outputs": [
    {
     "name": "stdout",
     "output_type": "stream",
     "text": [
      "Students score - Avg / Sum\n",
      "1 student score : 10\n",
      "2 student score : 20\n",
      "3 student score : 30\n",
      "4 student score : 40\n",
      "5 student score : 50\n",
      "Sum : 150\n",
      "Avg : 30.0\n"
     ]
    }
   ],
   "source": [
    "print('Students score - Avg / Sum')\n",
    "\n",
    "score1 = int(input('1 student score : '))\n",
    "score2 = int(input('2 student score : '))\n",
    "score3 = int(input('3 student score : '))\n",
    "score4 = int(input('4 student score : '))\n",
    "score5 = int(input('5 student score : '))\n",
    "\n",
    "total = 0\n",
    "total += score1\n",
    "total += score2\n",
    "total += score3\n",
    "total += score4\n",
    "total += score5\n",
    "\n",
    "print(f'Sum : {total}')\n",
    "print(f'Avg : {total / 5}')"
   ]
  },
  {
   "cell_type": "code",
   "execution_count": 3,
   "id": "0a309c06",
   "metadata": {},
   "outputs": [],
   "source": [
    "# Require 1 : change number of students\n",
    "# Require 2 : Change a specific student's score\n",
    "# Require 3 : Calculate Max or Min or needed to be sorted\n",
    "\n",
    "#If you use an array in this program, then you can satisfy all requires."
   ]
  },
  {
   "cell_type": "markdown",
   "id": "15ca4f85",
   "metadata": {},
   "source": [
    "# Look up to Lists & Tuples"
   ]
  },
  {
   "cell_type": "code",
   "execution_count": 5,
   "id": "9fda7c6f",
   "metadata": {},
   "outputs": [],
   "source": [
    "#In Python, you can implement array using a list and tuple. Lists and Tuples are refered as data containers. \n",
    "#The difference betwwen lists and tuples is it can change an element or not."
   ]
  },
  {
   "cell_type": "markdown",
   "id": "b842c0a5",
   "metadata": {},
   "source": [
    "# List"
   ]
  },
  {
   "cell_type": "code",
   "execution_count": 6,
   "id": "d6569be7",
   "metadata": {},
   "outputs": [],
   "source": [
    "#Lists are mutable list type of objects that can change an elements. The elements can be seperated by , \n",
    "#to create an empty list, use [] without elements or use list()"
   ]
  },
  {
   "cell_type": "code",
   "execution_count": 9,
   "id": "cf3056c1",
   "metadata": {},
   "outputs": [],
   "source": [
    "list1 = []\n",
    "list2 = [1,2,3]\n",
    "list3 = ['A','B','C']\n",
    "list4 = list()\n",
    "list5 = list('ABC')\n",
    "list6 = list([[1,2,3]])\n",
    "list8 = list(range(5))\n",
    "list9 = list(range(3,8))\n",
    "list10 = list(range(3,13,2))\n",
    "list11 = [None]*5"
   ]
  },
  {
   "cell_type": "markdown",
   "id": "23212579",
   "metadata": {},
   "source": [
    "# Tuple"
   ]
  },
  {
   "cell_type": "code",
   "execution_count": 11,
   "id": "e5639751",
   "metadata": {},
   "outputs": [],
   "source": [
    "#Tuples are immutable can't be changed"
   ]
  },
  {
   "cell_type": "code",
   "execution_count": 12,
   "id": "eecdc0f0",
   "metadata": {},
   "outputs": [],
   "source": [
    "tuple1 = ()\n",
    "tuple2 = 1,\n",
    "tuple3 = (1,)\n",
    "tuple4 = 1,2,3\n",
    "tuple5 = 1,2,3,\n",
    "tuple6 = (1,2,3)\n",
    "tuple7 = (1,2,3,)\n",
    "tuple8 = 'A','B','C'"
   ]
  },
  {
   "cell_type": "code",
   "execution_count": 16,
   "id": "6b727cd7",
   "metadata": {},
   "outputs": [
    {
     "name": "stdout",
     "output_type": "stream",
     "text": [
      "1\n",
      "1\n"
     ]
    },
    {
     "data": {
      "text/plain": [
       "int"
      ]
     },
     "execution_count": 16,
     "metadata": {},
     "output_type": "execute_result"
    }
   ],
   "source": [
    "v1 = 1\n",
    "v2 = (1)\n",
    "print(v1)\n",
    "print(v2)\n",
    "type(v2)"
   ]
  },
  {
   "cell_type": "code",
   "execution_count": 17,
   "id": "e58c764d",
   "metadata": {},
   "outputs": [],
   "source": [
    "tuple9 = tuple()\n",
    "tuple10 = tuple('ABC')\n",
    "tuple11 = tuple([1,2,3])\n",
    "tuple12 = tuple({1,2,3})"
   ]
  },
  {
   "cell_type": "markdown",
   "id": "00321086",
   "metadata": {},
   "source": [
    "# unpack"
   ]
  },
  {
   "cell_type": "code",
   "execution_count": 21,
   "id": "299227fc",
   "metadata": {},
   "outputs": [
    {
     "data": {
      "text/plain": [
       "(1, 2, 3)"
      ]
     },
     "execution_count": 21,
     "metadata": {},
     "output_type": "execute_result"
    }
   ],
   "source": [
    "x = [1,2,3]\n",
    "a,b,c = x\n",
    "a,b,c"
   ]
  },
  {
   "cell_type": "markdown",
   "id": "73a65ed1",
   "metadata": {},
   "source": [
    "# index"
   ]
  },
  {
   "cell_type": "code",
   "execution_count": 25,
   "id": "a75fb052",
   "metadata": {},
   "outputs": [
    {
     "name": "stdout",
     "output_type": "stream",
     "text": [
      "33\n",
      "55\n"
     ]
    },
    {
     "data": {
      "text/plain": [
       "[11, 22, 33, 3.14, 55, 66, 77]"
      ]
     },
     "execution_count": 25,
     "metadata": {},
     "output_type": "execute_result"
    }
   ],
   "source": [
    "x = [11,22,33,44,55,66,77]\n",
    "print(x[2])\n",
    "print(x[-3])\n",
    "x[-4] = 3.14\n",
    "x"
   ]
  },
  {
   "cell_type": "markdown",
   "id": "f80168bc",
   "metadata": {},
   "source": [
    "# slicing"
   ]
  },
  {
   "cell_type": "code",
   "execution_count": 29,
   "id": "4656b4d9",
   "metadata": {},
   "outputs": [
    {
     "data": {
      "text/plain": [
       "[11, 33, 55]"
      ]
     },
     "execution_count": 29,
     "metadata": {},
     "output_type": "execute_result"
    }
   ],
   "source": [
    "x[0:5]\n",
    "x[0:5:2]"
   ]
  },
  {
   "cell_type": "code",
   "execution_count": 30,
   "id": "cce42ad2",
   "metadata": {},
   "outputs": [],
   "source": [
    "# mutable - list dictionary\n",
    "# immutable - number string tuple"
   ]
  },
  {
   "cell_type": "markdown",
   "id": "f349090f",
   "metadata": {},
   "source": [
    "# Array"
   ]
  },
  {
   "cell_type": "code",
   "execution_count": 35,
   "id": "d19b8c28",
   "metadata": {},
   "outputs": [
    {
     "name": "stdout",
     "output_type": "stream",
     "text": [
      "Get a maximum element\n",
      "Element : 5\n",
      "x[0] : 1\n",
      "x[1] : 2\n",
      "x[2] : 3\n",
      "x[3] : 4\n",
      "x[4] : 5\n",
      "maximum 5\n"
     ]
    }
   ],
   "source": [
    "from typing import Any, Sequence\n",
    "\n",
    "def max_of(a: Sequence) -> Any:\n",
    "    maximum = a[0]\n",
    "    for i in range(1, len(a)):\n",
    "        if a[i] > maximum:\n",
    "            maximum = a[i]\n",
    "    return maximum\n",
    "\n",
    "if __name__ == '__main__':\n",
    "    print('Get a maximum element')\n",
    "    num = int(input('Element : '))\n",
    "    x = [None] * num\n",
    "    \n",
    "    for i in range(num):\n",
    "        x[i] = int(input(f'x[{i}] : '))\n",
    "                         \n",
    "    print(f'maximum {max_of(x)}')\n",
    "\n"
   ]
  },
  {
   "cell_type": "code",
   "execution_count": 37,
   "id": "2c3bbef7",
   "metadata": {},
   "outputs": [],
   "source": [
    "#1,2,3,4,5,6,7 -> 7,6,5,4,3,2,1\n",
    "#Reverse Array"
   ]
  },
  {
   "cell_type": "code",
   "execution_count": null,
   "id": "7c796bd8",
   "metadata": {},
   "outputs": [],
   "source": [
    "# def reverse_array(a: MutableSequence) -> None:\n",
    "#     total = len(a)"
   ]
  },
  {
   "cell_type": "code",
   "execution_count": 1,
   "id": "00e1b51d",
   "metadata": {},
   "outputs": [
    {
     "data": {
      "text/plain": [
       "[1, 2, 3, 4, 5, 6, 7, 8]"
      ]
     },
     "execution_count": 1,
     "metadata": {},
     "output_type": "execute_result"
    }
   ],
   "source": [
    "a = [1,2,3,4,5,6,7,8]\n",
    "a"
   ]
  },
  {
   "cell_type": "code",
   "execution_count": 3,
   "id": "d4327f28",
   "metadata": {},
   "outputs": [
    {
     "name": "stdout",
     "output_type": "stream",
     "text": [
      "7\n",
      "[8, 7, 6, 4, 5, 3, 2, 1]\n"
     ]
    }
   ],
   "source": [
    "end = len(a) - 1\n",
    "print(end)\n",
    "mid = int(end / 2)\n",
    "i = 0\n",
    "while i < mid:\n",
    "    tmp = a[i]\n",
    "    a[i] = a[end - i]\n",
    "    a[end - i] = tmp\n",
    "    i += 1\n",
    "print(a)"
   ]
  },
  {
   "cell_type": "code",
   "execution_count": 6,
   "id": "a661e601",
   "metadata": {},
   "outputs": [
    {
     "name": "stdout",
     "output_type": "stream",
     "text": [
      "Start reversing the array\n",
      "Total number of elements for an array7\n",
      "type an number for x[0] please : 1\n",
      "type an number for x[1] please : 2\n",
      "type an number for x[2] please : 3\n",
      "type an number for x[3] please : 4\n",
      "type an number for x[4] please : 5\n",
      "type an number for x[5] please : 6\n",
      "type an number for x[6] please : 7\n",
      "Finished reversing\n",
      "x[0] = 7\n",
      "x[1] = 6\n",
      "x[2] = 5\n",
      "x[3] = 4\n",
      "x[4] = 3\n",
      "x[5] = 2\n",
      "x[6] = 1\n"
     ]
    }
   ],
   "source": [
    "from typing import Any, MutableSequence\n",
    "\n",
    "def reverse_array(a: MutableSequence) -> None:\n",
    "    n = len(a)\n",
    "    for i in range( n//2 ):\n",
    "        a[i], a[n-i-1] = a[n-i-1], a[i]\n",
    "        \n",
    "if __name__ == '__main__':\n",
    "    print('Start reversing the array')\n",
    "    nx = int(input('Total number of elements for an array'))\n",
    "    x = [None]*nx\n",
    "    \n",
    "    for i in range(nx):\n",
    "        x[i] = int(input(f'type an number for x[{i}] please : '))\n",
    "        \n",
    "    reverse_array(x)\n",
    "    \n",
    "    print('Finished reversing')\n",
    "    for i in range(nx):\n",
    "        print(f'x[{i}] = {x[i]}')"
   ]
  },
  {
   "cell_type": "code",
   "execution_count": 11,
   "id": "0dbe4478",
   "metadata": {},
   "outputs": [],
   "source": [
    "testList = list()\n",
    "testList.append(1)\n",
    "testList.append(2)\n",
    "testList.append(3)\n",
    "testList.append(4)\n",
    "testList.append(5)\n",
    "testList.append(6)\n",
    "testList.append(7)"
   ]
  },
  {
   "cell_type": "code",
   "execution_count": 12,
   "id": "dba9c58c",
   "metadata": {},
   "outputs": [
    {
     "data": {
      "text/plain": [
       "[1, 2, 3, 4, 5, 6, 7]"
      ]
     },
     "execution_count": 12,
     "metadata": {},
     "output_type": "execute_result"
    }
   ],
   "source": [
    "testList"
   ]
  },
  {
   "cell_type": "code",
   "execution_count": 13,
   "id": "c2282658",
   "metadata": {},
   "outputs": [],
   "source": [
    "testList.reverse()"
   ]
  },
  {
   "cell_type": "code",
   "execution_count": 14,
   "id": "2b4ae585",
   "metadata": {},
   "outputs": [
    {
     "data": {
      "text/plain": [
       "[7, 6, 5, 4, 3, 2, 1]"
      ]
     },
     "execution_count": 14,
     "metadata": {},
     "output_type": "execute_result"
    }
   ],
   "source": [
    "testList"
   ]
  },
  {
   "cell_type": "code",
   "execution_count": 17,
   "id": "b2a11087",
   "metadata": {},
   "outputs": [],
   "source": [
    "counter = 0\n",
    "n = 100\n",
    "for i in range(2,n):\n",
    "    counter += 1\n",
    "    if n%i == 0:\n",
    "        break\n",
    "    else:\n",
    "        print(n)\n"
   ]
  },
  {
   "cell_type": "code",
   "execution_count": null,
   "id": "1a14ecee",
   "metadata": {},
   "outputs": [],
   "source": []
  }
 ],
 "metadata": {
  "kernelspec": {
   "display_name": "Python 3 (ipykernel)",
   "language": "python",
   "name": "python3"
  },
  "language_info": {
   "codemirror_mode": {
    "name": "ipython",
    "version": 3
   },
   "file_extension": ".py",
   "mimetype": "text/x-python",
   "name": "python",
   "nbconvert_exporter": "python",
   "pygments_lexer": "ipython3",
   "version": "3.9.7"
  }
 },
 "nbformat": 4,
 "nbformat_minor": 5
}
