{
 "cells": [
  {
   "cell_type": "code",
   "execution_count": 3,
   "id": "e337ad65-fc95-47f8-a6aa-74a7a2bd1ab2",
   "metadata": {},
   "outputs": [],
   "source": [
    "numpy\n",
    "ndim shape\n",
    "reshape\n",
    "masking\n",
    "arange\n",
    "astype\n",
    "행렬연산을 빠르게\n",
    "데이터 생성, 수정"
   ]
  },
  {
   "cell_type": "code",
   "execution_count": 8,
   "id": "1b8fc701-f40d-4262-af9d-074ed5498fad",
   "metadata": {},
   "outputs": [
    {
     "data": {
      "text/plain": [
       "array([[1, 2, 3],\n",
       "       [4, 5, 6]])"
      ]
     },
     "execution_count": 8,
     "metadata": {},
     "output_type": "execute_result"
    }
   ],
   "source": [
    "arr = np.array(\n",
    "    [[1,2,3],\n",
    "    [4,5,6]]\n",
    "    )\n",
    "arr"
   ]
  },
  {
   "cell_type": "code",
   "execution_count": 9,
   "id": "3e56e35d-23d8-4741-aa1f-ca1efd1a2a3c",
   "metadata": {},
   "outputs": [
    {
     "data": {
      "text/plain": [
       "2"
      ]
     },
     "execution_count": 9,
     "metadata": {},
     "output_type": "execute_result"
    }
   ],
   "source": [
    "arr.ndim"
   ]
  },
  {
   "cell_type": "code",
   "execution_count": 10,
   "id": "31368ad1-6929-41e9-b701-c41f321c3a64",
   "metadata": {},
   "outputs": [
    {
     "data": {
      "text/plain": [
       "(2, 3)"
      ]
     },
     "execution_count": 10,
     "metadata": {},
     "output_type": "execute_result"
    }
   ],
   "source": [
    "arr.shape"
   ]
  },
  {
   "cell_type": "code",
   "execution_count": 14,
   "id": "87a47394-c87d-47e0-b839-81e87f226cd8",
   "metadata": {},
   "outputs": [
    {
     "data": {
      "text/plain": [
       "(3, 2)"
      ]
     },
     "execution_count": 14,
     "metadata": {},
     "output_type": "execute_result"
    }
   ],
   "source": [
    "arr2 = arr.reshape(3,2)\n",
    "arr2.shape"
   ]
  },
  {
   "cell_type": "code",
   "execution_count": 16,
   "id": "97f903de-7c44-4ce4-8bbf-1cc34c898e9e",
   "metadata": {},
   "outputs": [
    {
     "data": {
      "text/plain": [
       "array([[[1],\n",
       "        [2]],\n",
       "\n",
       "       [[3],\n",
       "        [4]],\n",
       "\n",
       "       [[5],\n",
       "        [6]]])"
      ]
     },
     "execution_count": 16,
     "metadata": {},
     "output_type": "execute_result"
    }
   ],
   "source": [
    "arr3 = arr.reshape(3,2,1)\n",
    "arr3"
   ]
  },
  {
   "cell_type": "code",
   "execution_count": 18,
   "id": "f9d6b9f4-cab8-4b25-937c-f56d947b2ece",
   "metadata": {},
   "outputs": [
    {
     "data": {
      "text/plain": [
       "array([[1, 2, 3, 4, 5, 6]])"
      ]
     },
     "execution_count": 18,
     "metadata": {},
     "output_type": "execute_result"
    }
   ],
   "source": [
    "arr4 = arr.reshape(1,6)\n",
    "arr4"
   ]
  },
  {
   "cell_type": "code",
   "execution_count": 23,
   "id": "9bb2d18b-29ba-41fc-9131-49c3bfe8536d",
   "metadata": {},
   "outputs": [
    {
     "data": {
      "text/plain": [
       "array([[7, 2, 3],\n",
       "       [4, 5, 6]])"
      ]
     },
     "execution_count": 23,
     "metadata": {},
     "output_type": "execute_result"
    }
   ],
   "source": [
    "arr[0,0] = 7\n",
    "arr"
   ]
  },
  {
   "cell_type": "code",
   "execution_count": 24,
   "id": "7f11c76a-4dbd-4158-b328-b372ab8cae15",
   "metadata": {},
   "outputs": [],
   "source": [
    "arr[1,:]=np.array([5,6,7])"
   ]
  },
  {
   "cell_type": "code",
   "execution_count": 25,
   "id": "d57b53d3-29e0-48fb-93a6-fc8f2ff5438b",
   "metadata": {},
   "outputs": [
    {
     "data": {
      "text/plain": [
       "array([[7, 2, 3],\n",
       "       [5, 6, 7]])"
      ]
     },
     "execution_count": 25,
     "metadata": {},
     "output_type": "execute_result"
    }
   ],
   "source": [
    "arr"
   ]
  },
  {
   "cell_type": "code",
   "execution_count": 27,
   "id": "415c0ca9-bc84-439b-b928-4234d9f3761b",
   "metadata": {},
   "outputs": [
    {
     "data": {
      "text/plain": [
       "array([0, 2, 4, 6, 8])"
      ]
     },
     "execution_count": 27,
     "metadata": {},
     "output_type": "execute_result"
    }
   ],
   "source": [
    "np.arange(0,10,2)"
   ]
  },
  {
   "cell_type": "code",
   "execution_count": 31,
   "id": "5054d26b-6c2d-4657-976a-4bf5d524d212",
   "metadata": {},
   "outputs": [
    {
     "data": {
      "text/plain": [
       "array([[7., 2., 3.],\n",
       "       [5., 6., 7.]])"
      ]
     },
     "execution_count": 31,
     "metadata": {},
     "output_type": "execute_result"
    }
   ],
   "source": [
    "arr.astype(np.float64)"
   ]
  },
  {
   "cell_type": "code",
   "execution_count": 37,
   "id": "a92c9ac9-e90f-4af2-952c-7000bd413b14",
   "metadata": {},
   "outputs": [
    {
     "data": {
      "text/plain": [
       "(array([0, 1, 1, 1]), array([0, 0, 1, 2]))"
      ]
     },
     "execution_count": 37,
     "metadata": {},
     "output_type": "execute_result"
    }
   ],
   "source": [
    "np.where(arr > 4)"
   ]
  },
  {
   "cell_type": "code",
   "execution_count": 36,
   "id": "030f8626-b59f-411a-b362-c920758d4496",
   "metadata": {},
   "outputs": [
    {
     "data": {
      "text/plain": [
       "array([7, 5, 6, 7])"
      ]
     },
     "execution_count": 36,
     "metadata": {},
     "output_type": "execute_result"
    }
   ],
   "source": [
    "arr[np.where(arr > 4)]"
   ]
  },
  {
   "cell_type": "code",
   "execution_count": 38,
   "id": "62b53774-4b62-40c4-9a94-1adcebcb8a7f",
   "metadata": {},
   "outputs": [
    {
     "data": {
      "text/plain": [
       "array([[11,  0,  0],\n",
       "       [ 0, 11, 11]])"
      ]
     },
     "execution_count": 38,
     "metadata": {},
     "output_type": "execute_result"
    }
   ],
   "source": [
    "np.where(arr > 5, 11, 0)"
   ]
  },
  {
   "cell_type": "code",
   "execution_count": 39,
   "id": "40b9ae42-692e-493a-97fb-96afc2010e19",
   "metadata": {},
   "outputs": [
    {
     "data": {
      "text/plain": [
       "array([[1, 2, 3],\n",
       "       [4, 5, 6]])"
      ]
     },
     "execution_count": 39,
     "metadata": {},
     "output_type": "execute_result"
    }
   ],
   "source": [
    "np.array([1,2,3,4,5,6]).reshape(2,3)"
   ]
  },
  {
   "cell_type": "code",
   "execution_count": 40,
   "id": "55f50efb-6078-44c7-a27b-dd0e74ef1167",
   "metadata": {},
   "outputs": [
    {
     "data": {
      "text/plain": [
       "array([[1, 2, 3],\n",
       "       [4, 5, 6]])"
      ]
     },
     "execution_count": 40,
     "metadata": {},
     "output_type": "execute_result"
    }
   ],
   "source": [
    "np.arange(1,7).reshape(2,3)"
   ]
  },
  {
   "cell_type": "code",
   "execution_count": 43,
   "id": "1269e797-bc4e-4e3e-83f6-9c7ed9b1460c",
   "metadata": {},
   "outputs": [
    {
     "data": {
      "text/plain": [
       "array([[1., 1., 1.],\n",
       "       [1., 1., 1.],\n",
       "       [1., 1., 1.]])"
      ]
     },
     "execution_count": 43,
     "metadata": {},
     "output_type": "execute_result"
    }
   ],
   "source": [
    "np.ones(shape=(3,3))"
   ]
  },
  {
   "cell_type": "code",
   "execution_count": 45,
   "id": "90b6494c-a244-4be5-ba4b-df8bd1a92078",
   "metadata": {},
   "outputs": [
    {
     "data": {
      "text/plain": [
       "array([[0., 0.],\n",
       "       [0., 0.]])"
      ]
     },
     "execution_count": 45,
     "metadata": {},
     "output_type": "execute_result"
    }
   ],
   "source": [
    "np.zeros((2,2))"
   ]
  },
  {
   "cell_type": "code",
   "execution_count": 48,
   "id": "fa581a41-3dcb-4927-a18f-fc359a4234c0",
   "metadata": {},
   "outputs": [
    {
     "data": {
      "text/plain": [
       "array([[1, 2, 3],\n",
       "       [4, 5, 6],\n",
       "       [7, 8, 9]])"
      ]
     },
     "execution_count": 48,
     "metadata": {},
     "output_type": "execute_result"
    }
   ],
   "source": [
    "arr = np.arange(1,10).reshape(3,3)\n",
    "arr"
   ]
  },
  {
   "cell_type": "code",
   "execution_count": 49,
   "id": "1114a706-c6fe-48a0-a6cb-01ad0c1e5377",
   "metadata": {},
   "outputs": [
    {
     "data": {
      "text/plain": [
       "array([[1, 4, 7],\n",
       "       [2, 5, 8],\n",
       "       [3, 6, 9]])"
      ]
     },
     "execution_count": 49,
     "metadata": {},
     "output_type": "execute_result"
    }
   ],
   "source": [
    "np.transpose(arr)"
   ]
  },
  {
   "cell_type": "code",
   "execution_count": 50,
   "id": "458becf2-19ca-4a49-9ed2-63bf9984e163",
   "metadata": {},
   "outputs": [
    {
     "data": {
      "text/plain": [
       "array([[1, 4, 7],\n",
       "       [2, 5, 8],\n",
       "       [3, 6, 9]])"
      ]
     },
     "execution_count": 50,
     "metadata": {},
     "output_type": "execute_result"
    }
   ],
   "source": [
    "arr.T"
   ]
  },
  {
   "cell_type": "code",
   "execution_count": 52,
   "id": "7b9022e9-6be7-45da-9a8b-4334bdb826e5",
   "metadata": {},
   "outputs": [
    {
     "data": {
      "text/plain": [
       "array([1, 5, 9])"
      ]
     },
     "execution_count": 52,
     "metadata": {},
     "output_type": "execute_result"
    }
   ],
   "source": [
    "np.diag(arr)"
   ]
  },
  {
   "cell_type": "code",
   "execution_count": 58,
   "id": "603dcfd8-6176-4052-8cd1-2bce221c3076",
   "metadata": {},
   "outputs": [
    {
     "data": {
      "text/plain": [
       "array([[1., 0., 0.],\n",
       "       [0., 1., 0.],\n",
       "       [0., 0., 1.]])"
      ]
     },
     "execution_count": 58,
     "metadata": {},
     "output_type": "execute_result"
    }
   ],
   "source": [
    "np.eye(3,3)"
   ]
  },
  {
   "cell_type": "code",
   "execution_count": 56,
   "id": "f51bbfa1-a8d8-4072-b494-b0d4ac1caf07",
   "metadata": {},
   "outputs": [
    {
     "data": {
      "text/plain": [
       "array([[1., 0., 0.],\n",
       "       [0., 1., 0.],\n",
       "       [0., 0., 1.]])"
      ]
     },
     "execution_count": 56,
     "metadata": {},
     "output_type": "execute_result"
    }
   ],
   "source": [
    "np.identity(3)"
   ]
  },
  {
   "cell_type": "code",
   "execution_count": 62,
   "id": "0488ccd5-0417-42cb-82cc-fcaf458def82",
   "metadata": {},
   "outputs": [
    {
     "data": {
      "text/plain": [
       "array([ 1.        ,  1.47368421,  1.94736842,  2.42105263,  2.89473684,\n",
       "        3.36842105,  3.84210526,  4.31578947,  4.78947368,  5.26315789,\n",
       "        5.73684211,  6.21052632,  6.68421053,  7.15789474,  7.63157895,\n",
       "        8.10526316,  8.57894737,  9.05263158,  9.52631579, 10.        ])"
      ]
     },
     "execution_count": 62,
     "metadata": {},
     "output_type": "execute_result"
    }
   ],
   "source": [
    "np.linspace(1,10,20)"
   ]
  },
  {
   "cell_type": "code",
   "execution_count": 67,
   "id": "45aa1702-ad7d-4313-ad01-df6976b0a03f",
   "metadata": {},
   "outputs": [
    {
     "data": {
      "text/plain": [
       "array([1.        , 1.22222222, 1.44444444, 1.66666667, 1.88888889,\n",
       "       2.11111111, 2.33333333, 2.55555556, 2.77777778, 3.        ])"
      ]
     },
     "execution_count": 67,
     "metadata": {},
     "output_type": "execute_result"
    }
   ],
   "source": [
    "np.linspace(1,3,10)"
   ]
  },
  {
   "cell_type": "code",
   "execution_count": 66,
   "id": "fbb66212-f90f-4966-b690-819cf0f8c987",
   "metadata": {},
   "outputs": [
    {
     "data": {
      "text/plain": [
       "array([  10.        ,   16.68100537,   27.82559402,   46.41588834,\n",
       "         77.42636827,  129.1549665 ,  215.443469  ,  359.38136638,\n",
       "        599.48425032, 1000.        ])"
      ]
     },
     "execution_count": 66,
     "metadata": {},
     "output_type": "execute_result"
    }
   ],
   "source": [
    "np.logspace(1,3,10)"
   ]
  },
  {
   "cell_type": "code",
   "execution_count": 68,
   "id": "e7d01c77-792a-46ba-bb71-9f32952ecbfe",
   "metadata": {},
   "outputs": [
    {
     "data": {
      "text/plain": [
       "array([1.        , 1.12983096, 1.27651801, 1.44224957, 1.62949822,\n",
       "       1.84105755, 2.08008382, 2.35014311, 2.65526446, 3.        ])"
      ]
     },
     "execution_count": 68,
     "metadata": {},
     "output_type": "execute_result"
    }
   ],
   "source": [
    "np.logspace(np.log10(1),np.log10(3),10)"
   ]
  },
  {
   "cell_type": "code",
   "execution_count": 69,
   "id": "4243b618-2df2-4917-91c8-f2ee2ac8f0b3",
   "metadata": {},
   "outputs": [
    {
     "data": {
      "text/plain": [
       "array([[1.        , 1.12983096, 1.27651801, 1.44224957, 1.62949822],\n",
       "       [1.84105755, 2.08008382, 2.35014311, 2.65526446, 3.        ]])"
      ]
     },
     "execution_count": 69,
     "metadata": {},
     "output_type": "execute_result"
    }
   ],
   "source": [
    "np.logspace(np.log10(1),np.log10(3),10).reshape(2,5)"
   ]
  },
  {
   "cell_type": "code",
   "execution_count": 73,
   "id": "102f5bbd-b70b-47fd-8f24-4955e21747e1",
   "metadata": {},
   "outputs": [
    {
     "data": {
      "text/plain": [
       "array([[1, 2],\n",
       "       [3, 4]])"
      ]
     },
     "execution_count": 73,
     "metadata": {},
     "output_type": "execute_result"
    }
   ],
   "source": [
    "arr1 = np.arange(1,5).reshape(2,2)\n",
    "arr1"
   ]
  },
  {
   "cell_type": "code",
   "execution_count": 77,
   "id": "8bf39ff6-17d7-4027-8160-e949df2c127c",
   "metadata": {},
   "outputs": [
    {
     "data": {
      "text/plain": [
       "array([[5, 6],\n",
       "       [7, 8]])"
      ]
     },
     "execution_count": 77,
     "metadata": {},
     "output_type": "execute_result"
    }
   ],
   "source": [
    "arr2 = np.arange(5,9).reshape(2,2)\n",
    "arr2"
   ]
  },
  {
   "cell_type": "code",
   "execution_count": 75,
   "id": "67635b76-f3e6-4c46-a2fe-517ac1734d6e",
   "metadata": {},
   "outputs": [
    {
     "data": {
      "text/plain": [
       "array([[ 6,  8],\n",
       "       [10, 12]])"
      ]
     },
     "execution_count": 75,
     "metadata": {},
     "output_type": "execute_result"
    }
   ],
   "source": [
    "arr1+arr2"
   ]
  },
  {
   "cell_type": "code",
   "execution_count": 76,
   "id": "bec1f733-42a4-4e68-931f-3af029570ea1",
   "metadata": {},
   "outputs": [
    {
     "data": {
      "text/plain": [
       "array([[ 5, 12],\n",
       "       [21, 32]])"
      ]
     },
     "execution_count": 76,
     "metadata": {},
     "output_type": "execute_result"
    }
   ],
   "source": [
    "arr1 * arr2"
   ]
  },
  {
   "cell_type": "code",
   "execution_count": 78,
   "id": "be4c4c71-853d-4c82-9b43-aec048502e4c",
   "metadata": {},
   "outputs": [
    {
     "data": {
      "text/plain": [
       "array([[19, 22],\n",
       "       [43, 50]])"
      ]
     },
     "execution_count": 78,
     "metadata": {},
     "output_type": "execute_result"
    }
   ],
   "source": [
    "arr1 @ arr2"
   ]
  },
  {
   "cell_type": "code",
   "execution_count": 79,
   "id": "109d32aa-e7b2-404c-b676-63b81e40d55c",
   "metadata": {},
   "outputs": [
    {
     "data": {
      "text/plain": [
       "array([[-2. ,  1. ],\n",
       "       [ 1.5, -0.5]])"
      ]
     },
     "execution_count": 79,
     "metadata": {},
     "output_type": "execute_result"
    }
   ],
   "source": [
    "np.linalg.inv(arr1)"
   ]
  },
  {
   "cell_type": "code",
   "execution_count": 80,
   "id": "50cd9237-644c-496f-8ab3-0afd1c41badb",
   "metadata": {},
   "outputs": [
    {
     "data": {
      "text/plain": [
       "array([[1.00000000e+00, 1.11022302e-16],\n",
       "       [0.00000000e+00, 1.00000000e+00]])"
      ]
     },
     "execution_count": 80,
     "metadata": {},
     "output_type": "execute_result"
    }
   ],
   "source": [
    "arr1 @ np.linalg.inv(arr1)"
   ]
  },
  {
   "cell_type": "code",
   "execution_count": 81,
   "id": "30db97a6-7028-4722-8e09-a7d14cb06efa",
   "metadata": {},
   "outputs": [],
   "source": [
    "A = np.arange(1,5).reshape(2,2)"
   ]
  },
  {
   "cell_type": "code",
   "execution_count": 88,
   "id": "f4010335-2a07-4ad9-9e3d-e302ad36a5a0",
   "metadata": {},
   "outputs": [
    {
     "data": {
      "text/plain": [
       "(array([[1, 2],\n",
       "        [3, 4]]),\n",
       " array([[1, 2]]))"
      ]
     },
     "execution_count": 88,
     "metadata": {},
     "output_type": "execute_result"
    }
   ],
   "source": [
    "B = np.arange(1,3).reshape(1,2)\n",
    "A,B"
   ]
  },
  {
   "cell_type": "code",
   "execution_count": 89,
   "id": "3c348ac7-8bc5-439e-880a-74cedecb675a",
   "metadata": {},
   "outputs": [
    {
     "ename": "ValueError",
     "evalue": "matmul: Input operand 1 has a mismatch in its core dimension 0, with gufunc signature (n?,k),(k,m?)->(n?,m?) (size 1 is different from 2)",
     "output_type": "error",
     "traceback": [
      "\u001b[0;31m---------------------------------------------------------------------------\u001b[0m",
      "\u001b[0;31mValueError\u001b[0m                                Traceback (most recent call last)",
      "\u001b[0;32m/var/folders/dd/vb_zykv91y511gp7bgpcbfym0000gn/T/ipykernel_76638/3949824322.py\u001b[0m in \u001b[0;36m<module>\u001b[0;34m\u001b[0m\n\u001b[0;32m----> 1\u001b[0;31m \u001b[0manswer\u001b[0m \u001b[0;34m=\u001b[0m \u001b[0mnp\u001b[0m\u001b[0;34m.\u001b[0m\u001b[0mlinalg\u001b[0m\u001b[0;34m.\u001b[0m\u001b[0minv\u001b[0m\u001b[0;34m(\u001b[0m\u001b[0mA\u001b[0m\u001b[0;34m)\u001b[0m \u001b[0;34m@\u001b[0m \u001b[0mB\u001b[0m\u001b[0;34m\u001b[0m\u001b[0;34m\u001b[0m\u001b[0m\n\u001b[0m",
      "\u001b[0;31mValueError\u001b[0m: matmul: Input operand 1 has a mismatch in its core dimension 0, with gufunc signature (n?,k),(k,m?)->(n?,m?) (size 1 is different from 2)"
     ]
    }
   ],
   "source": [
    "answer = np.linalg.inv(A) @ B"
   ]
  },
  {
   "cell_type": "code",
   "execution_count": 106,
   "id": "78f8668f-c61e-404e-b30c-844ad87a5761",
   "metadata": {},
   "outputs": [
    {
     "data": {
      "text/plain": [
       "array([6, 3, 8])"
      ]
     },
     "execution_count": 106,
     "metadata": {},
     "output_type": "execute_result"
    }
   ],
   "source": [
    "np.random.seed(300)\n",
    "#rand 0 to 1\n",
    "np.random.rand()\n",
    "#randn 표준정규분포 (mean : 0, std : 1)\n",
    "np.random.randn()\n",
    "#randInt 균등분포 upper lower\n",
    "np.random.randint(3,5, size=(2,2))\n",
    "#uniform\n",
    "np.random.uniform(0,100,(3,3))\n",
    "#normal \n",
    "np.random.normal(5, 1, (2,2))\n",
    "#choice\n",
    "np.random.choice(10,2,0)\n",
    "np.random.choice(np.random.randint(1,10,5), size=3, replace=False)"
   ]
  },
  {
   "cell_type": "code",
   "execution_count": 107,
   "id": "ff8b2a46-2956-4770-b071-436e65a11a87",
   "metadata": {},
   "outputs": [
    {
     "data": {
      "text/plain": [
       "array([6, 9, 4, 6, 6])"
      ]
     },
     "execution_count": 107,
     "metadata": {},
     "output_type": "execute_result"
    }
   ],
   "source": [
    "np.random.randint(1,10,5)"
   ]
  },
  {
   "cell_type": "code",
   "execution_count": 117,
   "id": "0de6fa92-b11e-406b-b2a4-7f3824e14633",
   "metadata": {},
   "outputs": [
    {
     "data": {
      "text/plain": [
       "array([[5, 7, 4],\n",
       "       [4, 7, 7],\n",
       "       [4, 9, 6]])"
      ]
     },
     "execution_count": 117,
     "metadata": {},
     "output_type": "execute_result"
    }
   ],
   "source": [
    "#shuffle\n",
    "aaa = np.random.randint(1,10,(3,3))\n",
    "np.random.shuffle(aaa)\n",
    "aaa"
   ]
  },
  {
   "cell_type": "code",
   "execution_count": 120,
   "id": "7a74315c-96f4-494a-9f60-682f470b4f8a",
   "metadata": {},
   "outputs": [
    {
     "data": {
      "text/plain": [
       "array([6, 9, 5, 6, 9, 1, 2, 5, 1, 4])"
      ]
     },
     "execution_count": 120,
     "metadata": {},
     "output_type": "execute_result"
    }
   ],
   "source": [
    "#count\n",
    "#unique\n",
    "#bincount\n",
    "\n",
    "aaa = np.random.randint(1,10,10)"
   ]
  },
  {
   "cell_type": "code",
   "execution_count": 123,
   "id": "a2f179b9-4d85-4918-bbae-4007dcedf8d2",
   "metadata": {},
   "outputs": [
    {
     "data": {
      "text/plain": [
       "(array([4, 5, 6, 7, 9]), array([3, 1, 1, 3, 1]))"
      ]
     },
     "execution_count": 123,
     "metadata": {},
     "output_type": "execute_result"
    }
   ],
   "source": [
    "np.unique(aaa, return_counts=True)"
   ]
  },
  {
   "cell_type": "code",
   "execution_count": 126,
   "id": "0c438019-28e7-4a4d-aa79-5852bf4e21a0",
   "metadata": {},
   "outputs": [
    {
     "ename": "ValueError",
     "evalue": "object too deep for desired array",
     "output_type": "error",
     "traceback": [
      "\u001b[0;31m---------------------------------------------------------------------------\u001b[0m",
      "\u001b[0;31mValueError\u001b[0m                                Traceback (most recent call last)",
      "\u001b[0;32m/var/folders/dd/vb_zykv91y511gp7bgpcbfym0000gn/T/ipykernel_76638/491658666.py\u001b[0m in \u001b[0;36m<module>\u001b[0;34m\u001b[0m\n\u001b[0;32m----> 1\u001b[0;31m \u001b[0mnp\u001b[0m\u001b[0;34m.\u001b[0m\u001b[0mbincount\u001b[0m\u001b[0;34m(\u001b[0m\u001b[0marr\u001b[0m\u001b[0;34m)\u001b[0m\u001b[0;34m\u001b[0m\u001b[0;34m\u001b[0m\u001b[0m\n\u001b[0m",
      "\u001b[0;32m<__array_function__ internals>\u001b[0m in \u001b[0;36mbincount\u001b[0;34m(*args, **kwargs)\u001b[0m\n",
      "\u001b[0;31mValueError\u001b[0m: object too deep for desired array"
     ]
    }
   ],
   "source": [
    "np.bincount(arr)"
   ]
  },
  {
   "cell_type": "code",
   "execution_count": 131,
   "id": "f0b72de3-9b33-4ccd-88f9-64e2d94bdb1e",
   "metadata": {},
   "outputs": [
    {
     "data": {
      "text/plain": [
       "(array([[1, 7, 1, 5],\n",
       "        [3, 5, 5, 8]]),\n",
       " array([[4, 7, 5, 5],\n",
       "        [4, 2, 9, 9]]),\n",
       " array([[1, 3, 9, 8],\n",
       "        [2, 5, 1, 4]]))"
      ]
     },
     "execution_count": 131,
     "metadata": {},
     "output_type": "execute_result"
    }
   ],
   "source": [
    "arr1 = np.random.randint(1,10,size=(2,4))\n",
    "arr2 = np.random.randint(1,10,size=(2,4))\n",
    "arr3 = np.random.randint(1,10,size=(2,4))\n",
    "arr1,arr2,arr3"
   ]
  },
  {
   "cell_type": "code",
   "execution_count": 133,
   "id": "25cd263b-9aad-49c0-94cc-59c59903cb97",
   "metadata": {},
   "outputs": [
    {
     "data": {
      "text/plain": [
       "array([[1, 7, 1, 5, 4, 7, 5, 5, 1, 3, 9, 8],\n",
       "       [3, 5, 5, 8, 4, 2, 9, 9, 2, 5, 1, 4]])"
      ]
     },
     "execution_count": 133,
     "metadata": {},
     "output_type": "execute_result"
    }
   ],
   "source": [
    "np.concatenate([arr1, arr2, arr3], axis = 0)\n",
    "np.concatenate([arr1, arr2, arr3], axis = 1)"
   ]
  },
  {
   "cell_type": "code",
   "execution_count": 134,
   "id": "c43c542f-804a-4b65-8e09-a893415d150a",
   "metadata": {},
   "outputs": [
    {
     "data": {
      "text/plain": [
       "array([[1, 7, 1, 5],\n",
       "       [3, 5, 5, 8],\n",
       "       [4, 7, 5, 5],\n",
       "       [4, 2, 9, 9],\n",
       "       [1, 3, 9, 8],\n",
       "       [2, 5, 1, 4]])"
      ]
     },
     "execution_count": 134,
     "metadata": {},
     "output_type": "execute_result"
    }
   ],
   "source": [
    "np.vstack([arr1,arr2,arr3])"
   ]
  },
  {
   "cell_type": "code",
   "execution_count": 135,
   "id": "99988057-7f18-4808-93ca-544a91391bcf",
   "metadata": {},
   "outputs": [
    {
     "data": {
      "text/plain": [
       "array([[1, 7, 1, 5, 4, 7, 5, 5, 1, 3, 9, 8],\n",
       "       [3, 5, 5, 8, 4, 2, 9, 9, 2, 5, 1, 4]])"
      ]
     },
     "execution_count": 135,
     "metadata": {},
     "output_type": "execute_result"
    }
   ],
   "source": [
    "np.hstack([arr1,arr2,arr3])"
   ]
  },
  {
   "cell_type": "code",
   "execution_count": 139,
   "id": "25a971a6-f2cf-4476-b1f8-1dc9782c5bb4",
   "metadata": {},
   "outputs": [
    {
     "data": {
      "text/plain": [
       "array([1, 2, 3, 4, 5, 6, 7, 8, 9])"
      ]
     },
     "execution_count": 139,
     "metadata": {},
     "output_type": "execute_result"
    }
   ],
   "source": [
    "#ravel / flatten\n",
    "arr = np.arange(1,10).reshape(3,3,1)\n",
    "# arr.ravel()\n",
    "arr.flatten()"
   ]
  },
  {
   "cell_type": "code",
   "execution_count": 141,
   "id": "c43573f3-47c2-49bc-84f4-83ac7e1f245b",
   "metadata": {},
   "outputs": [
    {
     "data": {
      "text/plain": [
       "array([[1, 2, 3],\n",
       "       [4, 5, 6],\n",
       "       [7, 8, 9]])"
      ]
     },
     "execution_count": 141,
     "metadata": {},
     "output_type": "execute_result"
    }
   ],
   "source": [
    "#squeeze()\n",
    "arr.squeeze()"
   ]
  },
  {
   "cell_type": "code",
   "execution_count": 142,
   "id": "f8981b0c-6270-4677-85cf-42c37f4a351c",
   "metadata": {},
   "outputs": [
    {
     "data": {
      "text/plain": [
       "array([[1, 2, 3],\n",
       "       [4, 5, 6],\n",
       "       [7, 8, 9]])"
      ]
     },
     "execution_count": 142,
     "metadata": {},
     "output_type": "execute_result"
    }
   ],
   "source": [
    "np.squeeze(arr)"
   ]
  },
  {
   "cell_type": "code",
   "execution_count": 143,
   "id": "4b41944b-3565-44f3-bad6-0880a7396457",
   "metadata": {},
   "outputs": [
    {
     "data": {
      "text/plain": [
       "(3, 3)"
      ]
     },
     "execution_count": 143,
     "metadata": {},
     "output_type": "execute_result"
    }
   ],
   "source": [
    "np.squeeze(arr).shape"
   ]
  },
  {
   "cell_type": "code",
   "execution_count": 145,
   "id": "3a628044-d6f7-4229-b5f3-c26897c12e01",
   "metadata": {},
   "outputs": [
    {
     "data": {
      "text/plain": [
       "array([[1, 2, 3],\n",
       "       [4, 5, 6],\n",
       "       [7, 8, 9]])"
      ]
     },
     "execution_count": 145,
     "metadata": {},
     "output_type": "execute_result"
    }
   ],
   "source": [
    "arr.reshape(3,3)"
   ]
  },
  {
   "cell_type": "code",
   "execution_count": 147,
   "id": "ef05cc0f-aa2c-4a48-9b3d-4f281f1e81a6",
   "metadata": {},
   "outputs": [],
   "source": [
    "np.save('first_npy.npy',arr)"
   ]
  },
  {
   "cell_type": "code",
   "execution_count": 148,
   "id": "796d3eac-7fac-473b-92cf-02b2cd0dbf18",
   "metadata": {},
   "outputs": [],
   "source": [
    "brr = np.load('first_npy.npy')"
   ]
  },
  {
   "cell_type": "code",
   "execution_count": 149,
   "id": "4169950b-b750-4b8d-844d-87e39f13bcbd",
   "metadata": {},
   "outputs": [
    {
     "data": {
      "text/plain": [
       "array([[[1],\n",
       "        [2],\n",
       "        [3]],\n",
       "\n",
       "       [[4],\n",
       "        [5],\n",
       "        [6]],\n",
       "\n",
       "       [[7],\n",
       "        [8],\n",
       "        [9]]])"
      ]
     },
     "execution_count": 149,
     "metadata": {},
     "output_type": "execute_result"
    }
   ],
   "source": [
    "brr"
   ]
  },
  {
   "cell_type": "code",
   "execution_count": 150,
   "id": "095fa025-a20c-45f0-8ecc-dda68a156c44",
   "metadata": {},
   "outputs": [],
   "source": [
    "#Pandas\n",
    "#numpy로 구성\n",
    "#series / dataframe"
   ]
  },
  {
   "cell_type": "code",
   "execution_count": 151,
   "id": "43f3c57f-0792-46fc-966d-895fbd3c0a6c",
   "metadata": {},
   "outputs": [],
   "source": [
    "url = 'http://www.kobis.or.kr/kobisopenapi/webservice/rest/boxoffice/searchDailyBoxOfficeList.json?key=c3a0fa760324363ef7cde2afa0d73297&targetDt=20220524'"
   ]
  },
  {
   "cell_type": "code",
   "execution_count": 153,
   "id": "98aebb03-415b-4c6d-b30c-c17cee4ec7df",
   "metadata": {},
   "outputs": [
    {
     "data": {
      "text/plain": [
       "<Response [200]>"
      ]
     },
     "execution_count": 153,
     "metadata": {},
     "output_type": "execute_result"
    }
   ],
   "source": [
    "import requests\n",
    "resp = requests.get(url)\n",
    "resp"
   ]
  },
  {
   "cell_type": "code",
   "execution_count": 160,
   "id": "71e0da48-9f91-4bb7-bc7b-21737912f9dd",
   "metadata": {},
   "outputs": [],
   "source": [
    "data = resp.json()"
   ]
  },
  {
   "cell_type": "code",
   "execution_count": 162,
   "id": "c6a125b1-8a69-49bc-9a5b-3ce922369070",
   "metadata": {},
   "outputs": [],
   "source": [
    "import pandas as pd\n",
    "df_format = data['boxOfficeResult']['dailyBoxOfficeList']\n",
    "dfm = pd.DataFrame(df_format)\n",
    "dfm\n",
    "dfm.to_csv('test.csv')"
   ]
  },
  {
   "cell_type": "code",
   "execution_count": 166,
   "id": "c00526b9-ba6b-46a2-a334-3b8f96a53099",
   "metadata": {},
   "outputs": [],
   "source": [
    "import matplotlib.pyplot as plt\n",
    "%matplotlib inline"
   ]
  },
  {
   "cell_type": "code",
   "execution_count": 177,
   "id": "b84dc31c-5de9-46a4-8b2d-6ed847fda1e7",
   "metadata": {},
   "outputs": [],
   "source": [
    "ex1 = 'ATGCGCCTGCGTCTGTACTAG'\n",
    "ex2 = 'ATGCGCTGCGTCTGTACTAG'\n",
    "START = 'ATG'\n",
    "END = ['TAA','TAG','TGA']\n",
    "\n",
    "\n",
    "def inspecter(aaa):\n",
    "    test = aaa.split()\n",
    "    print(test)"
   ]
  },
  {
   "cell_type": "code",
   "execution_count": 178,
   "id": "c1215127-10b2-463a-9944-59da1566fefe",
   "metadata": {},
   "outputs": [
    {
     "name": "stdout",
     "output_type": "stream",
     "text": [
      "['ATGCGCCTGCGTCTGTACTAG']\n"
     ]
    }
   ],
   "source": [
    "inspecter(ex1)"
   ]
  },
  {
   "cell_type": "code",
   "execution_count": 179,
   "id": "d295ef7b-9961-4cf0-a2e7-6409cbb717c6",
   "metadata": {},
   "outputs": [],
   "source": [
    "import seaborn as sns"
   ]
  },
  {
   "cell_type": "code",
   "execution_count": 184,
   "id": "48dee0a2-593c-4dd4-a426-6878c2b7c1b5",
   "metadata": {},
   "outputs": [
    {
     "data": {
      "text/plain": [
       "rnum  rank  rankInten  rankOldAndNew  movieCd   movieNm              openDt      salesAmt    salesShare  salesInten  salesChange  salesAcc     audiCnt  audiInten  audiChange  audiAcc  scrnCnt  showCnt\n",
       "1     1     0          OLD            20204548  범죄도시 2               2022-05-18  2865885830  88.2        -535978910  -15.8        43525355560  283589   -53073     -15.8       4171033  2311     12533      1\n",
       "10    10    0          NEW            19888010  시네마 천국               1990-07-07  2400000     0.1         2400000     100          376314000    400      400        100         60918    2        2          1\n",
       "2     2     0          OLD            20212855  닥터 스트레인지: 대혼돈의 멀티버스  2022-05-04  260195560   8.0         -36413440   -12.3        58874126460  26062    -3340      -11.4       5527573  983      3708       1\n",
       "3     3     0          NEW            20224634  그대가 조국               2022-05-25  38542600    1.2         38542600    100          43391600     4075     4075       100         4589     17       17         1\n",
       "4     4     0          OLD            20211568  아치의 노래, 정태춘          2022-05-18  14290100    0.4         1383400     10.7         167211220    1492     130        9.5         17190    132      185        1\n",
       "5     5     0          OLD            20224270  배드 가이즈               2022-05-04  7743200     0.2         -3232100    -29.4        3596142650   902      -259       -22.3       377468   148      190        1\n",
       "6     6     1          OLD            20211421  매스                   2022-05-18  6991900     0.2         3181400     83.5         60929700     818      395        93.4        6602     61       96         1\n",
       "7     7     0          NEW            20217688  광대: 소리꾼              2022-02-24  4368000     0.1         4368000     100          118735170    624      624        100         15059    2        4          1\n",
       "8     8     1          OLD            20204665  EBS 댄스파티!                        2742000     0.1         810000      41.9         44789000     457      135        41.9        7686     13       13         1\n",
       "9     9     1          OLD            20210962  우연과 상상               2022-05-04  3881400     0.1         782500      25.3         191551500    414      95         29.8        19213    42       58         1\n",
       "dtype: int64"
      ]
     },
     "execution_count": 184,
     "metadata": {},
     "output_type": "execute_result"
    }
   ],
   "source": [
    "dfm.value_counts()\n",
    "dfm['rank'].value_counts()"
   ]
  },
  {
   "cell_type": "code",
   "execution_count": 188,
   "id": "5842269b-791c-4023-92be-63c4f3014ac2",
   "metadata": {},
   "outputs": [
    {
     "data": {
      "text/html": [
       "<div>\n",
       "<style scoped>\n",
       "    .dataframe tbody tr th:only-of-type {\n",
       "        vertical-align: middle;\n",
       "    }\n",
       "\n",
       "    .dataframe tbody tr th {\n",
       "        vertical-align: top;\n",
       "    }\n",
       "\n",
       "    .dataframe thead th {\n",
       "        text-align: right;\n",
       "    }\n",
       "</style>\n",
       "<table border=\"1\" class=\"dataframe\">\n",
       "  <thead>\n",
       "    <tr style=\"text-align: right;\">\n",
       "      <th></th>\n",
       "      <th>rank</th>\n",
       "      <th>movieNm</th>\n",
       "    </tr>\n",
       "  </thead>\n",
       "  <tbody>\n",
       "    <tr>\n",
       "      <th>0</th>\n",
       "      <td>1</td>\n",
       "      <td>범죄도시 2</td>\n",
       "    </tr>\n",
       "    <tr>\n",
       "      <th>1</th>\n",
       "      <td>2</td>\n",
       "      <td>닥터 스트레인지: 대혼돈의 멀티버스</td>\n",
       "    </tr>\n",
       "    <tr>\n",
       "      <th>2</th>\n",
       "      <td>3</td>\n",
       "      <td>그대가 조국</td>\n",
       "    </tr>\n",
       "    <tr>\n",
       "      <th>3</th>\n",
       "      <td>4</td>\n",
       "      <td>아치의 노래, 정태춘</td>\n",
       "    </tr>\n",
       "  </tbody>\n",
       "</table>\n",
       "</div>"
      ],
      "text/plain": [
       "  rank              movieNm\n",
       "0    1               범죄도시 2\n",
       "1    2  닥터 스트레인지: 대혼돈의 멀티버스\n",
       "2    3               그대가 조국\n",
       "3    4          아치의 노래, 정태춘"
      ]
     },
     "execution_count": 188,
     "metadata": {},
     "output_type": "execute_result"
    }
   ],
   "source": [
    "dfm.loc[0:3, ['rank','movieNm']]"
   ]
  },
  {
   "cell_type": "code",
   "execution_count": 192,
   "id": "5b247d94-b600-4eaf-9c9a-5f16c180ed03",
   "metadata": {},
   "outputs": [
    {
     "data": {
      "text/html": [
       "<div>\n",
       "<style scoped>\n",
       "    .dataframe tbody tr th:only-of-type {\n",
       "        vertical-align: middle;\n",
       "    }\n",
       "\n",
       "    .dataframe tbody tr th {\n",
       "        vertical-align: top;\n",
       "    }\n",
       "\n",
       "    .dataframe thead th {\n",
       "        text-align: right;\n",
       "    }\n",
       "</style>\n",
       "<table border=\"1\" class=\"dataframe\">\n",
       "  <thead>\n",
       "    <tr style=\"text-align: right;\">\n",
       "      <th></th>\n",
       "      <th>rnum</th>\n",
       "      <th>rank</th>\n",
       "      <th>rankInten</th>\n",
       "      <th>rankOldAndNew</th>\n",
       "      <th>movieCd</th>\n",
       "    </tr>\n",
       "  </thead>\n",
       "  <tbody>\n",
       "    <tr>\n",
       "      <th>0</th>\n",
       "      <td>1</td>\n",
       "      <td>1</td>\n",
       "      <td>0</td>\n",
       "      <td>OLD</td>\n",
       "      <td>20204548</td>\n",
       "    </tr>\n",
       "    <tr>\n",
       "      <th>1</th>\n",
       "      <td>2</td>\n",
       "      <td>2</td>\n",
       "      <td>0</td>\n",
       "      <td>OLD</td>\n",
       "      <td>20212855</td>\n",
       "    </tr>\n",
       "    <tr>\n",
       "      <th>2</th>\n",
       "      <td>3</td>\n",
       "      <td>3</td>\n",
       "      <td>0</td>\n",
       "      <td>NEW</td>\n",
       "      <td>20224634</td>\n",
       "    </tr>\n",
       "    <tr>\n",
       "      <th>3</th>\n",
       "      <td>4</td>\n",
       "      <td>4</td>\n",
       "      <td>0</td>\n",
       "      <td>OLD</td>\n",
       "      <td>20211568</td>\n",
       "    </tr>\n",
       "    <tr>\n",
       "      <th>4</th>\n",
       "      <td>5</td>\n",
       "      <td>5</td>\n",
       "      <td>0</td>\n",
       "      <td>OLD</td>\n",
       "      <td>20224270</td>\n",
       "    </tr>\n",
       "    <tr>\n",
       "      <th>5</th>\n",
       "      <td>6</td>\n",
       "      <td>6</td>\n",
       "      <td>1</td>\n",
       "      <td>OLD</td>\n",
       "      <td>20211421</td>\n",
       "    </tr>\n",
       "    <tr>\n",
       "      <th>6</th>\n",
       "      <td>7</td>\n",
       "      <td>7</td>\n",
       "      <td>0</td>\n",
       "      <td>NEW</td>\n",
       "      <td>20217688</td>\n",
       "    </tr>\n",
       "    <tr>\n",
       "      <th>7</th>\n",
       "      <td>8</td>\n",
       "      <td>8</td>\n",
       "      <td>1</td>\n",
       "      <td>OLD</td>\n",
       "      <td>20204665</td>\n",
       "    </tr>\n",
       "    <tr>\n",
       "      <th>8</th>\n",
       "      <td>9</td>\n",
       "      <td>9</td>\n",
       "      <td>1</td>\n",
       "      <td>OLD</td>\n",
       "      <td>20210962</td>\n",
       "    </tr>\n",
       "    <tr>\n",
       "      <th>9</th>\n",
       "      <td>10</td>\n",
       "      <td>10</td>\n",
       "      <td>0</td>\n",
       "      <td>NEW</td>\n",
       "      <td>19888010</td>\n",
       "    </tr>\n",
       "  </tbody>\n",
       "</table>\n",
       "</div>"
      ],
      "text/plain": [
       "  rnum rank rankInten rankOldAndNew   movieCd\n",
       "0    1    1         0           OLD  20204548\n",
       "1    2    2         0           OLD  20212855\n",
       "2    3    3         0           NEW  20224634\n",
       "3    4    4         0           OLD  20211568\n",
       "4    5    5         0           OLD  20224270\n",
       "5    6    6         1           OLD  20211421\n",
       "6    7    7         0           NEW  20217688\n",
       "7    8    8         1           OLD  20204665\n",
       "8    9    9         1           OLD  20210962\n",
       "9   10   10         0           NEW  19888010"
      ]
     },
     "execution_count": 192,
     "metadata": {},
     "output_type": "execute_result"
    }
   ],
   "source": [
    "dfm.iloc[0:10, 0:5]"
   ]
  },
  {
   "cell_type": "code",
   "execution_count": 202,
   "id": "4ee2fd80-1132-421f-a969-166e40e4f016",
   "metadata": {},
   "outputs": [
    {
     "data": {
      "text/html": [
       "<div>\n",
       "<style scoped>\n",
       "    .dataframe tbody tr th:only-of-type {\n",
       "        vertical-align: middle;\n",
       "    }\n",
       "\n",
       "    .dataframe tbody tr th {\n",
       "        vertical-align: top;\n",
       "    }\n",
       "\n",
       "    .dataframe thead th {\n",
       "        text-align: right;\n",
       "    }\n",
       "</style>\n",
       "<table border=\"1\" class=\"dataframe\">\n",
       "  <thead>\n",
       "    <tr style=\"text-align: right;\">\n",
       "      <th></th>\n",
       "      <th>rank</th>\n",
       "      <th>movieNm</th>\n",
       "    </tr>\n",
       "  </thead>\n",
       "  <tbody>\n",
       "    <tr>\n",
       "      <th>0</th>\n",
       "      <td>1</td>\n",
       "      <td>범죄도시 2</td>\n",
       "    </tr>\n",
       "    <tr>\n",
       "      <th>1</th>\n",
       "      <td>2</td>\n",
       "      <td>닥터 스트레인지: 대혼돈의 멀티버스</td>\n",
       "    </tr>\n",
       "    <tr>\n",
       "      <th>2</th>\n",
       "      <td>3</td>\n",
       "      <td>그대가 조국</td>\n",
       "    </tr>\n",
       "    <tr>\n",
       "      <th>3</th>\n",
       "      <td>4</td>\n",
       "      <td>아치의 노래, 정태춘</td>\n",
       "    </tr>\n",
       "    <tr>\n",
       "      <th>4</th>\n",
       "      <td>5</td>\n",
       "      <td>배드 가이즈</td>\n",
       "    </tr>\n",
       "    <tr>\n",
       "      <th>5</th>\n",
       "      <td>6</td>\n",
       "      <td>매스</td>\n",
       "    </tr>\n",
       "    <tr>\n",
       "      <th>6</th>\n",
       "      <td>7</td>\n",
       "      <td>광대: 소리꾼</td>\n",
       "    </tr>\n",
       "    <tr>\n",
       "      <th>7</th>\n",
       "      <td>8</td>\n",
       "      <td>EBS 댄스파티!</td>\n",
       "    </tr>\n",
       "    <tr>\n",
       "      <th>8</th>\n",
       "      <td>9</td>\n",
       "      <td>우연과 상상</td>\n",
       "    </tr>\n",
       "    <tr>\n",
       "      <th>9</th>\n",
       "      <td>10</td>\n",
       "      <td>시네마 천국</td>\n",
       "    </tr>\n",
       "  </tbody>\n",
       "</table>\n",
       "</div>"
      ],
      "text/plain": [
       "  rank              movieNm\n",
       "0    1               범죄도시 2\n",
       "1    2  닥터 스트레인지: 대혼돈의 멀티버스\n",
       "2    3               그대가 조국\n",
       "3    4          아치의 노래, 정태춘\n",
       "4    5               배드 가이즈\n",
       "5    6                   매스\n",
       "6    7              광대: 소리꾼\n",
       "7    8           EBS 댄스파티! \n",
       "8    9               우연과 상상\n",
       "9   10               시네마 천국"
      ]
     },
     "execution_count": 202,
     "metadata": {},
     "output_type": "execute_result"
    }
   ],
   "source": [
    "dfm.loc[:,['rank','movieNm']]"
   ]
  },
  {
   "cell_type": "code",
   "execution_count": 208,
   "id": "b8937540-c910-40af-9e84-15c5d64cb3b1",
   "metadata": {},
   "outputs": [
    {
     "data": {
      "text/plain": [
       "0     1\n",
       "1     2\n",
       "2     3\n",
       "3     4\n",
       "4     5\n",
       "5     6\n",
       "6     7\n",
       "7     8\n",
       "8     9\n",
       "9    10\n",
       "Name: r, dtype: object"
      ]
     },
     "execution_count": 208,
     "metadata": {},
     "output_type": "execute_result"
    }
   ],
   "source": [
    "#isin()\n",
    "dfm.rename(columns = {'rank':'r'}).r\n"
   ]
  },
  {
   "cell_type": "code",
   "execution_count": 210,
   "id": "ec155f4a-37ef-4d1f-b900-f4cdbaa360bd",
   "metadata": {},
   "outputs": [
    {
     "data": {
      "text/plain": [
       "Index(['rnum', 'rank', 'rankInten', 'rankOldAndNew', 'movieCd', 'movieNm',\n",
       "       'openDt', 'salesAmt', 'salesShare', 'salesInten', 'salesChange',\n",
       "       'salesAcc', 'audiCnt', 'audiInten', 'audiChange', 'audiAcc', 'scrnCnt',\n",
       "       'showCnt'],\n",
       "      dtype='object')"
      ]
     },
     "execution_count": 210,
     "metadata": {},
     "output_type": "execute_result"
    }
   ],
   "source": [
    "dfm.columns"
   ]
  },
  {
   "cell_type": "code",
   "execution_count": 215,
   "id": "b564e971-180a-4ac4-af27-0fc92c3f3618",
   "metadata": {},
   "outputs": [
    {
     "data": {
      "text/html": [
       "<div>\n",
       "<style scoped>\n",
       "    .dataframe tbody tr th:only-of-type {\n",
       "        vertical-align: middle;\n",
       "    }\n",
       "\n",
       "    .dataframe tbody tr th {\n",
       "        vertical-align: top;\n",
       "    }\n",
       "\n",
       "    .dataframe thead th {\n",
       "        text-align: right;\n",
       "    }\n",
       "</style>\n",
       "<table border=\"1\" class=\"dataframe\">\n",
       "  <thead>\n",
       "    <tr style=\"text-align: right;\">\n",
       "      <th></th>\n",
       "      <th>rank</th>\n",
       "      <th>movieCd</th>\n",
       "      <th>movieNm</th>\n",
       "    </tr>\n",
       "  </thead>\n",
       "  <tbody>\n",
       "    <tr>\n",
       "      <th>0</th>\n",
       "      <td>1</td>\n",
       "      <td>20204548</td>\n",
       "      <td>범죄도시 2</td>\n",
       "    </tr>\n",
       "    <tr>\n",
       "      <th>1</th>\n",
       "      <td>2</td>\n",
       "      <td>20212855</td>\n",
       "      <td>닥터 스트레인지: 대혼돈의 멀티버스</td>\n",
       "    </tr>\n",
       "    <tr>\n",
       "      <th>2</th>\n",
       "      <td>3</td>\n",
       "      <td>20224634</td>\n",
       "      <td>그대가 조국</td>\n",
       "    </tr>\n",
       "    <tr>\n",
       "      <th>3</th>\n",
       "      <td>4</td>\n",
       "      <td>20211568</td>\n",
       "      <td>아치의 노래, 정태춘</td>\n",
       "    </tr>\n",
       "    <tr>\n",
       "      <th>4</th>\n",
       "      <td>5</td>\n",
       "      <td>20224270</td>\n",
       "      <td>배드 가이즈</td>\n",
       "    </tr>\n",
       "    <tr>\n",
       "      <th>5</th>\n",
       "      <td>6</td>\n",
       "      <td>20211421</td>\n",
       "      <td>매스</td>\n",
       "    </tr>\n",
       "    <tr>\n",
       "      <th>6</th>\n",
       "      <td>7</td>\n",
       "      <td>20217688</td>\n",
       "      <td>광대: 소리꾼</td>\n",
       "    </tr>\n",
       "    <tr>\n",
       "      <th>7</th>\n",
       "      <td>8</td>\n",
       "      <td>20204665</td>\n",
       "      <td>EBS 댄스파티!</td>\n",
       "    </tr>\n",
       "    <tr>\n",
       "      <th>8</th>\n",
       "      <td>9</td>\n",
       "      <td>20210962</td>\n",
       "      <td>우연과 상상</td>\n",
       "    </tr>\n",
       "    <tr>\n",
       "      <th>9</th>\n",
       "      <td>10</td>\n",
       "      <td>19888010</td>\n",
       "      <td>시네마 천국</td>\n",
       "    </tr>\n",
       "  </tbody>\n",
       "</table>\n",
       "</div>"
      ],
      "text/plain": [
       "  rank   movieCd              movieNm\n",
       "0    1  20204548               범죄도시 2\n",
       "1    2  20212855  닥터 스트레인지: 대혼돈의 멀티버스\n",
       "2    3  20224634               그대가 조국\n",
       "3    4  20211568          아치의 노래, 정태춘\n",
       "4    5  20224270               배드 가이즈\n",
       "5    6  20211421                   매스\n",
       "6    7  20217688              광대: 소리꾼\n",
       "7    8  20204665           EBS 댄스파티! \n",
       "8    9  20210962               우연과 상상\n",
       "9   10  19888010               시네마 천국"
      ]
     },
     "execution_count": 215,
     "metadata": {},
     "output_type": "execute_result"
    }
   ],
   "source": [
    "dfm[['rank','movieCd','movieNm']]"
   ]
  },
  {
   "cell_type": "code",
   "execution_count": 217,
   "id": "cc167c0d-39d4-47a7-939d-96f3078adc10",
   "metadata": {},
   "outputs": [
    {
     "data": {
      "text/plain": [
       "0    [1, 0, OLD, 20204548, 범죄도시 2, 2022-05-18, 2865...\n",
       "1    [2, 0, OLD, 20212855, 닥터 스트레인지: 대혼돈의 멀티버스, 202...\n",
       "2    [3, 0, NEW, 20224634, 그대가 조국, 2022-05-25, 3854...\n",
       "3    [4, 0, OLD, 20211568, 아치의 노래, 정태춘, 2022-05-18,...\n",
       "4    [5, 0, OLD, 20224270, 배드 가이즈, 2022-05-04, 7743...\n",
       "5    [6, 1, OLD, 20211421, 매스, 2022-05-18, 6991900,...\n",
       "6    [7, 0, NEW, 20217688, 광대: 소리꾼, 2022-02-24, 436...\n",
       "7    [8, 1, OLD, 20204665, EBS 댄스파티! ,  , 2742000, ...\n",
       "8    [9, 1, OLD, 20210962, 우연과 상상, 2022-05-04, 3881...\n",
       "9    [10, 0, NEW, 19888010, 시네마 천국, 1990-07-07, 240...\n",
       "dtype: object"
      ]
     },
     "execution_count": 217,
     "metadata": {},
     "output_type": "execute_result"
    }
   ],
   "source": [
    "dfm.apply(lambda x : x.unique(), axis=1)"
   ]
  },
  {
   "cell_type": "code",
   "execution_count": null,
   "id": "a0bdaab9-4c3b-4a7c-8f8c-b40e6c81d328",
   "metadata": {},
   "outputs": [],
   "source": []
  }
 ],
 "metadata": {
  "kernelspec": {
   "display_name": "Python 3 (ipykernel)",
   "language": "python",
   "name": "python3"
  },
  "language_info": {
   "codemirror_mode": {
    "name": "ipython",
    "version": 3
   },
   "file_extension": ".py",
   "mimetype": "text/x-python",
   "name": "python",
   "nbconvert_exporter": "python",
   "pygments_lexer": "ipython3",
   "version": "3.9.7"
  }
 },
 "nbformat": 4,
 "nbformat_minor": 5
}
