{
 "cells": [
  {
   "cell_type": "code",
   "execution_count": 1,
   "id": "a3bea1fe",
   "metadata": {},
   "outputs": [],
   "source": [
    "import numpy as np\n",
    "import pandas as pd\n",
    "import matplotlib.pyplot as plt\n",
    "%matplotlib inline"
   ]
  },
  {
   "cell_type": "code",
   "execution_count": 2,
   "id": "16f37ab5",
   "metadata": {},
   "outputs": [],
   "source": [
    "from datetime import datetime"
   ]
  },
  {
   "cell_type": "code",
   "execution_count": 3,
   "id": "375b2fb6",
   "metadata": {},
   "outputs": [],
   "source": [
    "now = datetime.now()"
   ]
  },
  {
   "cell_type": "code",
   "execution_count": 4,
   "id": "7903c0de",
   "metadata": {},
   "outputs": [
    {
     "data": {
      "text/plain": [
       "datetime.datetime(2022, 6, 8, 9, 3, 35, 488484)"
      ]
     },
     "execution_count": 4,
     "metadata": {},
     "output_type": "execute_result"
    }
   ],
   "source": [
    "now"
   ]
  },
  {
   "cell_type": "code",
   "execution_count": 5,
   "id": "ea4e9dbf",
   "metadata": {},
   "outputs": [
    {
     "data": {
      "text/plain": [
       "(2022, 6, 8, 9)"
      ]
     },
     "execution_count": 5,
     "metadata": {},
     "output_type": "execute_result"
    }
   ],
   "source": [
    "now.year, now.month, now.day, now.hour"
   ]
  },
  {
   "cell_type": "code",
   "execution_count": 6,
   "id": "b423d28d",
   "metadata": {},
   "outputs": [],
   "source": [
    "delta = datetime(2022,5,6) - now"
   ]
  },
  {
   "cell_type": "code",
   "execution_count": 7,
   "id": "f17de448",
   "metadata": {},
   "outputs": [
    {
     "data": {
      "text/plain": [
       "datetime.timedelta(days=-34, seconds=53784, microseconds=511516)"
      ]
     },
     "execution_count": 7,
     "metadata": {},
     "output_type": "execute_result"
    }
   ],
   "source": [
    "delta"
   ]
  },
  {
   "cell_type": "code",
   "execution_count": 10,
   "id": "7e9bdf79",
   "metadata": {},
   "outputs": [
    {
     "data": {
      "text/plain": [
       "datetime.datetime(2022, 6, 22, 9, 3, 35, 488484)"
      ]
     },
     "execution_count": 10,
     "metadata": {},
     "output_type": "execute_result"
    }
   ],
   "source": [
    "from datetime import timedelta\n",
    "now + timedelta(14)"
   ]
  },
  {
   "cell_type": "code",
   "execution_count": 11,
   "id": "7c7ad7d3",
   "metadata": {},
   "outputs": [
    {
     "data": {
      "text/plain": [
       "'2022-06-08'"
      ]
     },
     "execution_count": 11,
     "metadata": {},
     "output_type": "execute_result"
    }
   ],
   "source": [
    "now.strftime('%Y-%m-%d')"
   ]
  },
  {
   "cell_type": "code",
   "execution_count": 12,
   "id": "1063b3a4",
   "metadata": {},
   "outputs": [
    {
     "data": {
      "text/plain": [
       "'2022-06-08 09:03:35.488484'"
      ]
     },
     "execution_count": 12,
     "metadata": {},
     "output_type": "execute_result"
    }
   ],
   "source": [
    "str(now)"
   ]
  },
  {
   "cell_type": "code",
   "execution_count": 13,
   "id": "03dc4f6c",
   "metadata": {},
   "outputs": [
    {
     "data": {
      "text/plain": [
       "datetime.datetime(2022, 6, 8, 0, 0)"
      ]
     },
     "execution_count": 13,
     "metadata": {},
     "output_type": "execute_result"
    }
   ],
   "source": [
    "str_value = '2022-06-08'\n",
    "datetime.strptime(str_value,'%Y-%m-%d')"
   ]
  },
  {
   "cell_type": "code",
   "execution_count": 14,
   "id": "90023168",
   "metadata": {},
   "outputs": [],
   "source": [
    "dates_list = ['7/6/2022','8/6/2002']"
   ]
  },
  {
   "cell_type": "code",
   "execution_count": 15,
   "id": "88d94d7c",
   "metadata": {},
   "outputs": [
    {
     "data": {
      "text/plain": [
       "[datetime.datetime(2022, 7, 6, 0, 0), datetime.datetime(2002, 8, 6, 0, 0)]"
      ]
     },
     "execution_count": 15,
     "metadata": {},
     "output_type": "execute_result"
    }
   ],
   "source": [
    "[datetime.strptime(x,'%m/%d/%Y') for x in dates_list]"
   ]
  },
  {
   "cell_type": "code",
   "execution_count": 16,
   "id": "a94a59e5",
   "metadata": {},
   "outputs": [],
   "source": [
    "from dateutil.parser import parse"
   ]
  },
  {
   "cell_type": "code",
   "execution_count": 17,
   "id": "7e13d7f1",
   "metadata": {},
   "outputs": [
    {
     "data": {
      "text/plain": [
       "datetime.datetime(2022, 5, 6, 0, 0)"
      ]
     },
     "execution_count": 17,
     "metadata": {},
     "output_type": "execute_result"
    }
   ],
   "source": [
    "parse('2022-05-06')"
   ]
  },
  {
   "cell_type": "code",
   "execution_count": 18,
   "id": "3bd1e531",
   "metadata": {},
   "outputs": [
    {
     "data": {
      "text/plain": [
       "datetime.datetime(2027, 1, 31, 22, 45)"
      ]
     },
     "execution_count": 18,
     "metadata": {},
     "output_type": "execute_result"
    }
   ],
   "source": [
    "parse('Jan 31, 2027 10:45 PM')"
   ]
  },
  {
   "cell_type": "code",
   "execution_count": 19,
   "id": "f983a6f6",
   "metadata": {},
   "outputs": [
    {
     "data": {
      "text/plain": [
       "datetime.datetime(2022, 6, 8, 0, 0)"
      ]
     },
     "execution_count": 19,
     "metadata": {},
     "output_type": "execute_result"
    }
   ],
   "source": [
    "parse('8/6/2022',dayfirst=True)"
   ]
  },
  {
   "cell_type": "code",
   "execution_count": 20,
   "id": "28e4e793",
   "metadata": {},
   "outputs": [],
   "source": [
    "date_list2 = ['2022-06-08 09:00:00', '2022-07-08 09:00:00']"
   ]
  },
  {
   "cell_type": "code",
   "execution_count": 21,
   "id": "6406d7e0",
   "metadata": {},
   "outputs": [
    {
     "data": {
      "text/plain": [
       "DatetimeIndex(['2022-06-08 09:00:00', '2022-07-08 09:00:00'], dtype='datetime64[ns]', freq=None)"
      ]
     },
     "execution_count": 21,
     "metadata": {},
     "output_type": "execute_result"
    }
   ],
   "source": [
    "pd.to_datetime(date_list2)"
   ]
  },
  {
   "cell_type": "code",
   "execution_count": 25,
   "id": "07f9745f",
   "metadata": {},
   "outputs": [],
   "source": [
    "idx = pd.to_datetime(date_list2 + [None])"
   ]
  },
  {
   "cell_type": "code",
   "execution_count": 26,
   "id": "412f44b6",
   "metadata": {},
   "outputs": [
    {
     "data": {
      "text/plain": [
       "DatetimeIndex(['2022-06-08 09:00:00', '2022-07-08 09:00:00', 'NaT'], dtype='datetime64[ns]', freq=None)"
      ]
     },
     "execution_count": 26,
     "metadata": {},
     "output_type": "execute_result"
    }
   ],
   "source": [
    "idx"
   ]
  },
  {
   "cell_type": "code",
   "execution_count": 27,
   "id": "63d26752",
   "metadata": {},
   "outputs": [
    {
     "data": {
      "text/plain": [
       "array([False, False,  True])"
      ]
     },
     "execution_count": 27,
     "metadata": {},
     "output_type": "execute_result"
    }
   ],
   "source": [
    "pd.isnull(idx)"
   ]
  },
  {
   "cell_type": "code",
   "execution_count": 28,
   "id": "3008de8c",
   "metadata": {},
   "outputs": [
    {
     "data": {
      "text/plain": [
       "[1, 2, 3, 4]"
      ]
     },
     "execution_count": 28,
     "metadata": {},
     "output_type": "execute_result"
    }
   ],
   "source": [
    "[1,2]+[3,4]"
   ]
  },
  {
   "cell_type": "code",
   "execution_count": 29,
   "id": "5bab267b",
   "metadata": {},
   "outputs": [
    {
     "data": {
      "text/plain": [
       "['2022-06-08 09:00:00', '2022-07-08 09:00:00', None, 2, None]"
      ]
     },
     "execution_count": 29,
     "metadata": {},
     "output_type": "execute_result"
    }
   ],
   "source": [
    "date_list2 + [None,2, None]"
   ]
  },
  {
   "cell_type": "code",
   "execution_count": 30,
   "id": "ecf4d2a3",
   "metadata": {},
   "outputs": [],
   "source": [
    "dates = [\n",
    "    datetime(2011,1,2),\n",
    "    datetime(2011,1,5),\n",
    "    datetime(2011,1,7),\n",
    "    datetime(2011,1,8),\n",
    "    datetime(2011,1,10),\n",
    "    datetime(2011,1,12)\n",
    "]"
   ]
  },
  {
   "cell_type": "code",
   "execution_count": 31,
   "id": "83e7bee5",
   "metadata": {},
   "outputs": [
    {
     "data": {
      "text/plain": [
       "[datetime.datetime(2011, 1, 2, 0, 0),\n",
       " datetime.datetime(2011, 1, 5, 0, 0),\n",
       " datetime.datetime(2011, 1, 7, 0, 0),\n",
       " datetime.datetime(2011, 1, 8, 0, 0),\n",
       " datetime.datetime(2011, 1, 10, 0, 0),\n",
       " datetime.datetime(2011, 1, 12, 0, 0)]"
      ]
     },
     "execution_count": 31,
     "metadata": {},
     "output_type": "execute_result"
    }
   ],
   "source": [
    "dates"
   ]
  },
  {
   "cell_type": "code",
   "execution_count": 32,
   "id": "86cee24a",
   "metadata": {},
   "outputs": [],
   "source": [
    "ts = pd.Series(np.random.randn(6), index=dates)"
   ]
  },
  {
   "cell_type": "code",
   "execution_count": 33,
   "id": "bf0added",
   "metadata": {},
   "outputs": [
    {
     "data": {
      "text/plain": [
       "2011-01-02    0.918363\n",
       "2011-01-05   -1.594065\n",
       "2011-01-07    0.616031\n",
       "2011-01-08   -2.190091\n",
       "2011-01-10   -0.537269\n",
       "2011-01-12   -0.197109\n",
       "dtype: float64"
      ]
     },
     "execution_count": 33,
     "metadata": {},
     "output_type": "execute_result"
    }
   ],
   "source": [
    "ts"
   ]
  },
  {
   "cell_type": "code",
   "execution_count": 34,
   "id": "89d60432",
   "metadata": {},
   "outputs": [
    {
     "data": {
      "text/plain": [
       "2011-01-02    1.836726\n",
       "2011-01-05         NaN\n",
       "2011-01-07    1.232062\n",
       "2011-01-08         NaN\n",
       "2011-01-10   -1.074537\n",
       "2011-01-12         NaN\n",
       "dtype: float64"
      ]
     },
     "execution_count": 34,
     "metadata": {},
     "output_type": "execute_result"
    }
   ],
   "source": [
    "ts + ts[::2]"
   ]
  },
  {
   "cell_type": "code",
   "execution_count": 35,
   "id": "1d8878aa",
   "metadata": {},
   "outputs": [
    {
     "data": {
      "text/plain": [
       "Timestamp('2011-01-02 00:00:00')"
      ]
     },
     "execution_count": 35,
     "metadata": {},
     "output_type": "execute_result"
    }
   ],
   "source": [
    "ts.index[0]"
   ]
  },
  {
   "cell_type": "code",
   "execution_count": 36,
   "id": "9412db94",
   "metadata": {},
   "outputs": [
    {
     "data": {
      "text/plain": [
       "Timestamp('2011-01-07 00:00:00')"
      ]
     },
     "execution_count": 36,
     "metadata": {},
     "output_type": "execute_result"
    }
   ],
   "source": [
    "stamp = ts.index[2]\n",
    "stamp"
   ]
  },
  {
   "cell_type": "code",
   "execution_count": 37,
   "id": "d1048470",
   "metadata": {},
   "outputs": [
    {
     "data": {
      "text/plain": [
       "-0.5372687240552091"
      ]
     },
     "execution_count": 37,
     "metadata": {},
     "output_type": "execute_result"
    }
   ],
   "source": [
    "ts['1/10/2011']"
   ]
  },
  {
   "cell_type": "code",
   "execution_count": 38,
   "id": "1765b630",
   "metadata": {},
   "outputs": [
    {
     "data": {
      "text/plain": [
       "2011-01-02    0.918363\n",
       "2011-01-05   -1.594065\n",
       "2011-01-07    0.616031\n",
       "2011-01-08   -2.190091\n",
       "2011-01-10   -0.537269\n",
       "2011-01-12   -0.197109\n",
       "dtype: float64"
      ]
     },
     "execution_count": 38,
     "metadata": {},
     "output_type": "execute_result"
    }
   ],
   "source": [
    "ts"
   ]
  },
  {
   "cell_type": "code",
   "execution_count": 40,
   "id": "0a45d4b0",
   "metadata": {},
   "outputs": [
    {
     "data": {
      "text/plain": [
       "2000-01-01    1.048376\n",
       "2000-01-02    0.676362\n",
       "2000-01-03    0.048925\n",
       "2000-01-04   -1.475450\n",
       "2000-01-05    0.264613\n",
       "                ...   \n",
       "2002-09-22   -0.974512\n",
       "2002-09-23    1.609313\n",
       "2002-09-24    1.206689\n",
       "2002-09-25   -0.404114\n",
       "2002-09-26    0.749213\n",
       "Freq: D, Length: 1000, dtype: float64"
      ]
     },
     "execution_count": 40,
     "metadata": {},
     "output_type": "execute_result"
    }
   ],
   "source": [
    "long_ts = pd.Series(np.random.randn(1000),index = pd.date_range('1/1/2000',periods=1000))\n",
    "long_ts"
   ]
  },
  {
   "cell_type": "code",
   "execution_count": 41,
   "id": "4fb1d55c",
   "metadata": {},
   "outputs": [
    {
     "data": {
      "text/plain": [
       "1000"
      ]
     },
     "execution_count": 41,
     "metadata": {},
     "output_type": "execute_result"
    }
   ],
   "source": [
    "len(long_ts)"
   ]
  },
  {
   "cell_type": "code",
   "execution_count": 44,
   "id": "55e87f12",
   "metadata": {},
   "outputs": [
    {
     "data": {
      "text/plain": [
       "2001-05-01    1.305267\n",
       "2001-05-02   -0.985363\n",
       "2001-05-03    0.075263\n",
       "2001-05-04   -0.085614\n",
       "2001-05-05    1.379153\n",
       "2001-05-06   -0.159953\n",
       "2001-05-07    1.461164\n",
       "2001-05-08   -0.699899\n",
       "2001-05-09   -0.095132\n",
       "2001-05-10   -0.634010\n",
       "2001-05-11    1.061607\n",
       "2001-05-12    0.290036\n",
       "2001-05-13    0.512164\n",
       "2001-05-14    0.454146\n",
       "2001-05-15    0.197051\n",
       "2001-05-16    1.024090\n",
       "2001-05-17   -0.456340\n",
       "2001-05-18    2.028626\n",
       "2001-05-19   -1.022610\n",
       "2001-05-20   -0.525835\n",
       "2001-05-21    0.777278\n",
       "2001-05-22    0.143095\n",
       "2001-05-23   -1.507048\n",
       "2001-05-24    2.801300\n",
       "2001-05-25   -0.215482\n",
       "2001-05-26    0.405402\n",
       "2001-05-27   -0.393922\n",
       "2001-05-28   -0.076976\n",
       "2001-05-29    0.410801\n",
       "2001-05-30   -0.585047\n",
       "2001-05-31    0.798393\n",
       "Freq: D, dtype: float64"
      ]
     },
     "execution_count": 44,
     "metadata": {},
     "output_type": "execute_result"
    }
   ],
   "source": [
    "long_ts['2001-05']"
   ]
  },
  {
   "cell_type": "code",
   "execution_count": 47,
   "id": "e76d29c0",
   "metadata": {},
   "outputs": [
    {
     "data": {
      "text/plain": [
       "2002-09-01   -0.071959\n",
       "2002-09-02    0.895854\n",
       "2002-09-03   -0.140600\n",
       "2002-09-04    1.233324\n",
       "2002-09-05    1.832603\n",
       "2002-09-06    1.314328\n",
       "2002-09-07    0.028032\n",
       "2002-09-08   -0.789431\n",
       "2002-09-09   -0.414823\n",
       "2002-09-10   -0.238386\n",
       "2002-09-11   -1.035340\n",
       "2002-09-12    0.665065\n",
       "2002-09-13   -0.751353\n",
       "2002-09-14    0.513124\n",
       "2002-09-15    0.045603\n",
       "2002-09-16   -2.007244\n",
       "2002-09-17   -0.725113\n",
       "2002-09-18   -0.754527\n",
       "2002-09-19    0.285625\n",
       "2002-09-20    1.336788\n",
       "2002-09-21   -1.376834\n",
       "2002-09-22   -0.974512\n",
       "2002-09-23    1.609313\n",
       "2002-09-24    1.206689\n",
       "2002-09-25   -0.404114\n",
       "2002-09-26    0.749213\n",
       "Freq: D, dtype: float64"
      ]
     },
     "execution_count": 47,
     "metadata": {},
     "output_type": "execute_result"
    }
   ],
   "source": [
    "long_ts[datetime(2002,9,1):]"
   ]
  },
  {
   "cell_type": "code",
   "execution_count": 48,
   "id": "7502c343",
   "metadata": {},
   "outputs": [
    {
     "data": {
      "text/plain": [
       "2002-09-20    1.336788\n",
       "2002-09-21   -1.376834\n",
       "2002-09-22   -0.974512\n",
       "2002-09-23    1.609313\n",
       "2002-09-24    1.206689\n",
       "2002-09-25   -0.404114\n",
       "2002-09-26    0.749213\n",
       "Freq: D, dtype: float64"
      ]
     },
     "execution_count": 48,
     "metadata": {},
     "output_type": "execute_result"
    }
   ],
   "source": [
    "long_ts['2002-09-20':'2002-09-26']"
   ]
  },
  {
   "cell_type": "code",
   "execution_count": 49,
   "id": "e591ec75",
   "metadata": {},
   "outputs": [],
   "source": [
    "dates = pd.date_range('1/1/2000',periods=100, freq='W-Wed')"
   ]
  },
  {
   "cell_type": "code",
   "execution_count": 50,
   "id": "58b585d2",
   "metadata": {},
   "outputs": [
    {
     "data": {
      "text/plain": [
       "DatetimeIndex(['2000-01-05', '2000-01-12', '2000-01-19', '2000-01-26',\n",
       "               '2000-02-02', '2000-02-09', '2000-02-16', '2000-02-23',\n",
       "               '2000-03-01', '2000-03-08', '2000-03-15', '2000-03-22',\n",
       "               '2000-03-29', '2000-04-05', '2000-04-12', '2000-04-19',\n",
       "               '2000-04-26', '2000-05-03', '2000-05-10', '2000-05-17',\n",
       "               '2000-05-24', '2000-05-31', '2000-06-07', '2000-06-14',\n",
       "               '2000-06-21', '2000-06-28', '2000-07-05', '2000-07-12',\n",
       "               '2000-07-19', '2000-07-26', '2000-08-02', '2000-08-09',\n",
       "               '2000-08-16', '2000-08-23', '2000-08-30', '2000-09-06',\n",
       "               '2000-09-13', '2000-09-20', '2000-09-27', '2000-10-04',\n",
       "               '2000-10-11', '2000-10-18', '2000-10-25', '2000-11-01',\n",
       "               '2000-11-08', '2000-11-15', '2000-11-22', '2000-11-29',\n",
       "               '2000-12-06', '2000-12-13', '2000-12-20', '2000-12-27',\n",
       "               '2001-01-03', '2001-01-10', '2001-01-17', '2001-01-24',\n",
       "               '2001-01-31', '2001-02-07', '2001-02-14', '2001-02-21',\n",
       "               '2001-02-28', '2001-03-07', '2001-03-14', '2001-03-21',\n",
       "               '2001-03-28', '2001-04-04', '2001-04-11', '2001-04-18',\n",
       "               '2001-04-25', '2001-05-02', '2001-05-09', '2001-05-16',\n",
       "               '2001-05-23', '2001-05-30', '2001-06-06', '2001-06-13',\n",
       "               '2001-06-20', '2001-06-27', '2001-07-04', '2001-07-11',\n",
       "               '2001-07-18', '2001-07-25', '2001-08-01', '2001-08-08',\n",
       "               '2001-08-15', '2001-08-22', '2001-08-29', '2001-09-05',\n",
       "               '2001-09-12', '2001-09-19', '2001-09-26', '2001-10-03',\n",
       "               '2001-10-10', '2001-10-17', '2001-10-24', '2001-10-31',\n",
       "               '2001-11-07', '2001-11-14', '2001-11-21', '2001-11-28'],\n",
       "              dtype='datetime64[ns]', freq='W-WED')"
      ]
     },
     "execution_count": 50,
     "metadata": {},
     "output_type": "execute_result"
    }
   ],
   "source": [
    "dates"
   ]
  },
  {
   "cell_type": "code",
   "execution_count": 52,
   "id": "3a539db6",
   "metadata": {},
   "outputs": [],
   "source": [
    "long_df = pd.DataFrame(np.random.randn(100,4), index=dates, columns=['Colorado','Texas','New York','Ohio'])"
   ]
  },
  {
   "cell_type": "code",
   "execution_count": 53,
   "id": "d7f625dd",
   "metadata": {},
   "outputs": [
    {
     "data": {
      "text/html": [
       "<div>\n",
       "<style scoped>\n",
       "    .dataframe tbody tr th:only-of-type {\n",
       "        vertical-align: middle;\n",
       "    }\n",
       "\n",
       "    .dataframe tbody tr th {\n",
       "        vertical-align: top;\n",
       "    }\n",
       "\n",
       "    .dataframe thead th {\n",
       "        text-align: right;\n",
       "    }\n",
       "</style>\n",
       "<table border=\"1\" class=\"dataframe\">\n",
       "  <thead>\n",
       "    <tr style=\"text-align: right;\">\n",
       "      <th></th>\n",
       "      <th>Colorado</th>\n",
       "      <th>Texas</th>\n",
       "      <th>New York</th>\n",
       "      <th>Ohio</th>\n",
       "    </tr>\n",
       "  </thead>\n",
       "  <tbody>\n",
       "    <tr>\n",
       "      <th>2000-01-05</th>\n",
       "      <td>2.193172</td>\n",
       "      <td>-0.298239</td>\n",
       "      <td>-0.607858</td>\n",
       "      <td>-1.194033</td>\n",
       "    </tr>\n",
       "    <tr>\n",
       "      <th>2000-01-12</th>\n",
       "      <td>0.377502</td>\n",
       "      <td>0.130043</td>\n",
       "      <td>-0.410957</td>\n",
       "      <td>-0.377689</td>\n",
       "    </tr>\n",
       "    <tr>\n",
       "      <th>2000-01-19</th>\n",
       "      <td>-0.926286</td>\n",
       "      <td>-0.538977</td>\n",
       "      <td>-1.472583</td>\n",
       "      <td>-1.689097</td>\n",
       "    </tr>\n",
       "    <tr>\n",
       "      <th>2000-01-26</th>\n",
       "      <td>0.447284</td>\n",
       "      <td>-1.678550</td>\n",
       "      <td>0.832746</td>\n",
       "      <td>0.512167</td>\n",
       "    </tr>\n",
       "    <tr>\n",
       "      <th>2000-02-02</th>\n",
       "      <td>-1.577071</td>\n",
       "      <td>0.331070</td>\n",
       "      <td>-0.565128</td>\n",
       "      <td>0.063286</td>\n",
       "    </tr>\n",
       "    <tr>\n",
       "      <th>...</th>\n",
       "      <td>...</td>\n",
       "      <td>...</td>\n",
       "      <td>...</td>\n",
       "      <td>...</td>\n",
       "    </tr>\n",
       "    <tr>\n",
       "      <th>2001-10-31</th>\n",
       "      <td>1.383878</td>\n",
       "      <td>-0.921609</td>\n",
       "      <td>1.021940</td>\n",
       "      <td>1.211213</td>\n",
       "    </tr>\n",
       "    <tr>\n",
       "      <th>2001-11-07</th>\n",
       "      <td>-1.851781</td>\n",
       "      <td>-0.926156</td>\n",
       "      <td>0.257391</td>\n",
       "      <td>1.154959</td>\n",
       "    </tr>\n",
       "    <tr>\n",
       "      <th>2001-11-14</th>\n",
       "      <td>2.198664</td>\n",
       "      <td>1.272696</td>\n",
       "      <td>-0.564289</td>\n",
       "      <td>0.767853</td>\n",
       "    </tr>\n",
       "    <tr>\n",
       "      <th>2001-11-21</th>\n",
       "      <td>1.174660</td>\n",
       "      <td>0.570297</td>\n",
       "      <td>-0.608763</td>\n",
       "      <td>0.080680</td>\n",
       "    </tr>\n",
       "    <tr>\n",
       "      <th>2001-11-28</th>\n",
       "      <td>-0.900583</td>\n",
       "      <td>0.392501</td>\n",
       "      <td>-1.618827</td>\n",
       "      <td>-1.667792</td>\n",
       "    </tr>\n",
       "  </tbody>\n",
       "</table>\n",
       "<p>100 rows × 4 columns</p>\n",
       "</div>"
      ],
      "text/plain": [
       "            Colorado     Texas  New York      Ohio\n",
       "2000-01-05  2.193172 -0.298239 -0.607858 -1.194033\n",
       "2000-01-12  0.377502  0.130043 -0.410957 -0.377689\n",
       "2000-01-19 -0.926286 -0.538977 -1.472583 -1.689097\n",
       "2000-01-26  0.447284 -1.678550  0.832746  0.512167\n",
       "2000-02-02 -1.577071  0.331070 -0.565128  0.063286\n",
       "...              ...       ...       ...       ...\n",
       "2001-10-31  1.383878 -0.921609  1.021940  1.211213\n",
       "2001-11-07 -1.851781 -0.926156  0.257391  1.154959\n",
       "2001-11-14  2.198664  1.272696 -0.564289  0.767853\n",
       "2001-11-21  1.174660  0.570297 -0.608763  0.080680\n",
       "2001-11-28 -0.900583  0.392501 -1.618827 -1.667792\n",
       "\n",
       "[100 rows x 4 columns]"
      ]
     },
     "execution_count": 53,
     "metadata": {},
     "output_type": "execute_result"
    }
   ],
   "source": [
    "long_df"
   ]
  },
  {
   "cell_type": "code",
   "execution_count": null,
   "id": "bed1bf6c",
   "metadata": {},
   "outputs": [],
   "source": []
  },
  {
   "cell_type": "code",
   "execution_count": null,
   "id": "b663857e",
   "metadata": {
    "collapsed": true
   },
   "outputs": [],
   "source": []
  }
 ],
 "metadata": {
  "kernelspec": {
   "display_name": "Python 3 (ipykernel)",
   "language": "python",
   "name": "python3"
  },
  "language_info": {
   "codemirror_mode": {
    "name": "ipython",
    "version": 3
   },
   "file_extension": ".py",
   "mimetype": "text/x-python",
   "name": "python",
   "nbconvert_exporter": "python",
   "pygments_lexer": "ipython3",
   "version": "3.9.7"
  }
 },
 "nbformat": 4,
 "nbformat_minor": 5
}
