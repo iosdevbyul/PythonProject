{
 "cells": [
  {
   "cell_type": "markdown",
   "id": "674847c2",
   "metadata": {},
   "source": [
    "# Numpy, Pandas, Matplotlib"
   ]
  },
  {
   "cell_type": "code",
   "execution_count": 4,
   "id": "eae3fc53",
   "metadata": {},
   "outputs": [],
   "source": [
    "%matplotlib inline\n",
    "import numpy as np\n",
    "import pandas as pd\n",
    "import matplotlib"
   ]
  },
  {
   "cell_type": "code",
   "execution_count": 5,
   "id": "fc86d914",
   "metadata": {},
   "outputs": [
    {
     "data": {
      "text/plain": [
       "array([0.66087126, 0.18558002, 0.22874882, 0.63188402, 0.5527084 ,\n",
       "       0.54872414, 0.32177209, 0.56148715, 0.62852313, 0.69250673,\n",
       "       0.88449085, 0.89821958, 0.38197317, 0.0662676 , 0.44066474,\n",
       "       0.93380244, 0.37051668, 0.75144452, 0.28972714, 0.93548825,\n",
       "       0.87844544, 0.25140365, 0.34232468, 0.74281695, 0.30512631,\n",
       "       0.78226319, 0.54641093, 0.05781022, 0.25073864, 0.98472725,\n",
       "       0.9432207 , 0.7224618 , 0.61544245, 0.97301233, 0.72126883,\n",
       "       0.83735081, 0.85056989, 0.17356923, 0.11182305, 0.64234867,\n",
       "       0.5870594 , 0.16742522, 0.02482129, 0.46972895, 0.91722714,\n",
       "       0.39660184, 0.36781193, 0.5104567 , 0.46309185, 0.0108775 ])"
      ]
     },
     "execution_count": 5,
     "metadata": {},
     "output_type": "execute_result"
    }
   ],
   "source": [
    "data = np.random.rand(50)\n",
    "data"
   ]
  },
  {
   "cell_type": "code",
   "execution_count": 6,
   "id": "bbf5e32a",
   "metadata": {},
   "outputs": [
    {
     "data": {
      "text/plain": [
       "0     0.660871\n",
       "1     0.185580\n",
       "2     0.228749\n",
       "3     0.631884\n",
       "4     0.552708\n",
       "5     0.548724\n",
       "6     0.321772\n",
       "7     0.561487\n",
       "8     0.628523\n",
       "9     0.692507\n",
       "10    0.884491\n",
       "11    0.898220\n",
       "12    0.381973\n",
       "13    0.066268\n",
       "14    0.440665\n",
       "15    0.933802\n",
       "16    0.370517\n",
       "17    0.751445\n",
       "18    0.289727\n",
       "19    0.935488\n",
       "20    0.878445\n",
       "21    0.251404\n",
       "22    0.342325\n",
       "23    0.742817\n",
       "24    0.305126\n",
       "25    0.782263\n",
       "26    0.546411\n",
       "27    0.057810\n",
       "28    0.250739\n",
       "29    0.984727\n",
       "30    0.943221\n",
       "31    0.722462\n",
       "32    0.615442\n",
       "33    0.973012\n",
       "34    0.721269\n",
       "35    0.837351\n",
       "36    0.850570\n",
       "37    0.173569\n",
       "38    0.111823\n",
       "39    0.642349\n",
       "40    0.587059\n",
       "41    0.167425\n",
       "42    0.024821\n",
       "43    0.469729\n",
       "44    0.917227\n",
       "45    0.396602\n",
       "46    0.367812\n",
       "47    0.510457\n",
       "48    0.463092\n",
       "49    0.010877\n",
       "dtype: float64"
      ]
     },
     "execution_count": 6,
     "metadata": {},
     "output_type": "execute_result"
    }
   ],
   "source": [
    "seri = pd.Series(data)\n",
    "seri"
   ]
  },
  {
   "cell_type": "code",
   "execution_count": 7,
   "id": "60171102",
   "metadata": {},
   "outputs": [
    {
     "data": {
      "text/plain": [
       "<AxesSubplot:>"
      ]
     },
     "execution_count": 7,
     "metadata": {},
     "output_type": "execute_result"
    },
    {
     "data": {
      "image/png": "[encoded data removed]",
      "text/plain": [
       "<Figure size 432x288 with 1 Axes>"
      ]
     },
     "metadata": {
      "needs_background": "light"
     },
     "output_type": "display_data"
    }
   ],
   "source": [
    "seri.plot()"
   ]
  },
  {
   "cell_type": "markdown",
   "id": "d45e4318",
   "metadata": {},
   "source": [
    "# 세 정수의 최대값 구하기 "
   ]
  },
  {
   "cell_type": "code",
   "execution_count": 8,
   "id": "217bf677",
   "metadata": {},
   "outputs": [
    {
     "name": "stdout",
     "output_type": "stream",
     "text": [
      "First number : 3\n",
      "Second number : 4\n",
      "Third number : 5\n",
      "Maximun number is  5\n"
     ]
    }
   ],
   "source": [
    "firstNumber = input('First number : ')\n",
    "secondNumber = input('Second number : ')\n",
    "thirdNumber = input('Third number : ')\n",
    "\n",
    "def compare(one, two):\n",
    "    if one > two:\n",
    "        return one\n",
    "    else:\n",
    "        return two\n",
    "    \n",
    "compare1 = compare(firstNumber, secondNumber)\n",
    "compare2 = compare(compare1, thirdNumber)\n",
    "\n",
    "print('Maximun number is ',compare2)"
   ]
  },
  {
   "cell_type": "code",
   "execution_count": 10,
   "id": "c83cc476",
   "metadata": {},
   "outputs": [
    {
     "name": "stdout",
     "output_type": "stream",
     "text": [
      "type any number : 10\n",
      "10 :  10\n"
     ]
    }
   ],
   "source": [
    "inputStr = input('type any number : ')\n",
    "print('10 : ',int(inputStr,10))"
   ]
  },
  {
   "cell_type": "markdown",
   "id": "4fa7c4ee",
   "metadata": {},
   "source": [
    "# 세 정수의 중앙값 구하기"
   ]
  },
  {
   "cell_type": "code",
   "execution_count": 13,
   "id": "cc5ec77a",
   "metadata": {},
   "outputs": [
    {
     "name": "stdout",
     "output_type": "stream",
     "text": [
      "First number : 10\n",
      "Second number : 11\n",
      "Third number : 12\n",
      "11.0\n"
     ]
    }
   ],
   "source": [
    "firstNumber = input('First number : ')\n",
    "secondNumber = input('Second number : ')\n",
    "thirdNumber = input('Third number : ')\n",
    "\n",
    "print((int(firstNumber)+int(secondNumber)+int(thirdNumber))/3)"
   ]
  },
  {
   "cell_type": "code",
   "execution_count": 21,
   "id": "35925a72",
   "metadata": {},
   "outputs": [
    {
     "name": "stdout",
     "output_type": "stream",
     "text": [
      "First number : 10\n",
      "Second number : 11\n",
      "Third number : 11\n",
      "Mid number is  11\n"
     ]
    }
   ],
   "source": [
    "firstNumber = input('First number : ')\n",
    "secondNumber = input('Second number : ')\n",
    "thirdNumber = input('Third number : ')\n",
    "\n",
    "mid = firstNumber\n",
    "\n",
    "if (firstNumber == secondNumber) and (firstNumber == thirdNumber):\n",
    "    print('All numbers are equal')\n",
    "elif (firstNumber == secondNumber) or (firstNumber == thirdNumber) or (secondNumber == thirdNumber):\n",
    "    if secondNumber == thirdNumber:\n",
    "        mid = secondNumber\n",
    "    else:\n",
    "        if secondNumber > thirdNumber:\n",
    "            mid = thirdNumber\n",
    "        else:\n",
    "            mid = secondNumber\n",
    "else:\n",
    "    if (firstNumber < secondNumber) and (firstNumber < thirdNumber):\n",
    "        if secondNumber < thirdNumber:\n",
    "            mid = secondNumber\n",
    "        else:\n",
    "            mid = thirdNumber\n",
    "    elif (firstNumber > secondNumber) and (firstNumber > thirdNumber):\n",
    "        if secondNumber > thirdNumber:\n",
    "            mid = secondNumber\n",
    "        else:\n",
    "            mid = thirdNumber\n",
    "    else:\n",
    "        mid = firstNumber\n",
    "print('Mid number is ',mid)"
   ]
  },
  {
   "cell_type": "code",
   "execution_count": 23,
   "id": "ca9f58a3",
   "metadata": {},
   "outputs": [
    {
     "data": {
      "text/plain": [
       "22"
      ]
     },
     "execution_count": 23,
     "metadata": {},
     "output_type": "execute_result"
    }
   ],
   "source": [
    "x = -11\n",
    "y = 22\n",
    "a = x if x>0 else y\n",
    "a"
   ]
  },
  {
   "cell_type": "markdown",
   "id": "df5665ab",
   "metadata": {},
   "source": [
    "# 1부터 n까지 정수의 합 구하기"
   ]
  },
  {
   "cell_type": "code",
   "execution_count": 34,
   "id": "f67101e2",
   "metadata": {},
   "outputs": [
    {
     "name": "stdout",
     "output_type": "stream",
     "text": [
      "type a number: 3\n",
      "The total is  6\n"
     ]
    }
   ],
   "source": [
    "n = input('type a number: ')\n",
    "\n",
    "sum = 0\n",
    "i = 1\n",
    "while i<=int(n):\n",
    "    sum += i\n",
    "    i += 1\n",
    "    \n",
    "print('The total is ',sum)"
   ]
  },
  {
   "cell_type": "code",
   "execution_count": 37,
   "id": "f139c832",
   "metadata": {
    "scrolled": true
   },
   "outputs": [
    {
     "name": "stdout",
     "output_type": "stream",
     "text": [
      "type a number: 5\n",
      "The total is  15\n"
     ]
    }
   ],
   "source": [
    "n = input('type a number: ')\n",
    "\n",
    "sum = 0\n",
    "for i in range(1,int(n)+1):\n",
    "    sum += i\n",
    "    \n",
    "print('The total is ',sum)"
   ]
  },
  {
   "cell_type": "code",
   "execution_count": 42,
   "id": "2769b39b",
   "metadata": {},
   "outputs": [
    {
     "name": "stdout",
     "output_type": "stream",
     "text": [
      "2 1\n"
     ]
    }
   ],
   "source": [
    "a= 1\n",
    "b = 2\n",
    "a,b = b,a\n",
    "print(a,b)"
   ]
  },
  {
   "cell_type": "code",
   "execution_count": 51,
   "id": "676ea2e6",
   "metadata": {},
   "outputs": [
    {
     "name": "stdout",
     "output_type": "stream",
     "text": [
      "*\n",
      "**\n",
      "***\n",
      "****\n",
      "*****\n",
      "******\n",
      "*******\n",
      "********\n",
      "*********\n"
     ]
    }
   ],
   "source": [
    "for i in range(1,10):\n",
    "    for j in range(1,i+1):\n",
    "        print('*',end='')\n",
    "    print()"
   ]
  },
  {
   "cell_type": "code",
   "execution_count": 57,
   "id": "c88d8e6b",
   "metadata": {},
   "outputs": [
    {
     "name": "stdout",
     "output_type": "stream",
     "text": [
      "        *\n",
      "       **\n",
      "      ***\n",
      "     ****\n",
      "    *****\n",
      "   ******\n",
      "  *******\n",
      " ********\n",
      "*********\n"
     ]
    }
   ],
   "source": [
    "starFirstLocation = 9\n",
    "for i in range(1,10):\n",
    "    for j in range(1,10):\n",
    "        if j >= starFirstLocation:\n",
    "            print('*',end='')\n",
    "        else:\n",
    "            print(' ',end='')\n",
    "    print()\n",
    "    starFirstLocation -= 1"
   ]
  },
  {
   "cell_type": "code",
   "execution_count": 60,
   "id": "77efc657",
   "metadata": {},
   "outputs": [],
   "source": [
    "a = [1,2,3,4]\n",
    "b = a\n",
    "b.append(5)"
   ]
  },
  {
   "cell_type": "code",
   "execution_count": 62,
   "id": "8c117bd8",
   "metadata": {},
   "outputs": [
    {
     "data": {
      "text/plain": [
       "[1, 2, 3, 4, 5]"
      ]
     },
     "execution_count": 62,
     "metadata": {},
     "output_type": "execute_result"
    }
   ],
   "source": [
    "b"
   ]
  },
  {
   "cell_type": "code",
   "execution_count": 63,
   "id": "d5d1c7fb",
   "metadata": {},
   "outputs": [],
   "source": [
    "c = a.copy()\n"
   ]
  },
  {
   "cell_type": "code",
   "execution_count": 65,
   "id": "d9d2d2e8",
   "metadata": {},
   "outputs": [],
   "source": [
    "c.append(6)"
   ]
  },
  {
   "cell_type": "code",
   "execution_count": 66,
   "id": "1b4ea33f",
   "metadata": {},
   "outputs": [
    {
     "data": {
      "text/plain": [
       "[1, 2, 3, 4, 5]"
      ]
     },
     "execution_count": 66,
     "metadata": {},
     "output_type": "execute_result"
    }
   ],
   "source": [
    "a"
   ]
  },
  {
   "cell_type": "code",
   "execution_count": 67,
   "id": "c7452b82",
   "metadata": {},
   "outputs": [
    {
     "data": {
      "text/plain": [
       "[1, 2, 3, 4, 5, 6]"
      ]
     },
     "execution_count": 67,
     "metadata": {},
     "output_type": "execute_result"
    }
   ],
   "source": [
    "c"
   ]
  },
  {
   "cell_type": "code",
   "execution_count": null,
   "id": "431db491",
   "metadata": {},
   "outputs": [],
   "source": []
  }
 ],
 "metadata": {
  "kernelspec": {
   "display_name": "Python 3 (ipykernel)",
   "language": "python",
   "name": "python3"
  },
  "language_info": {
   "codemirror_mode": {
    "name": "ipython",
    "version": 3
   },
   "file_extension": ".py",
   "mimetype": "text/x-python",
   "name": "python",
   "nbconvert_exporter": "python",
   "pygments_lexer": "ipython3",
   "version": "3.9.7"
  }
 },
 "nbformat": 4,
 "nbformat_minor": 5
}
